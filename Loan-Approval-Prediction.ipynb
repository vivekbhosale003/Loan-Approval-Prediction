{
 "cells": [
  {
   "cell_type": "markdown",
   "metadata": {},
   "source": [
    "# Loan Approval Prediction\n",
    "<br>\n",
    "This repo contains the Loan Approval Prediction project as part of my data science portfolio. This project is completed as part of the online hackathon organized by [Analytics Vidhya](https://www.analyticsvidhya.com/). Evaluation metric of the hackathon is accuracy i.e. percentage of loan approval that is correctly predicted. After trying and testing 4 different algorithms, the best accuracy on the public leaderboard is achieved by Logistic Regression (0.7847), followed by RandomForest (0.7778) and XGBoost (0.7778), while Decision Tree performed the worst (0.6458). \n",
    "\n",
    "This project covers the whole process from problem statement to model development and evaluation:\n",
    "1. [Problem Statement](#problem)\n",
    "2. [Hypothesis Generation](#hypothesis)\n",
    "3. [Data Collection](#data)\n",
    "4. [Exploratory Data Analysis (EDA)](#eda)\n",
    "5. [Data Pre-processing](#pre)\n",
    "6. [Model Development and Evaluation](#model)\n",
    "7. [Conclusion](#conclusion)\n",
    "\n",
    "\n",
    "Below are my submission results:\n",
    "<table><tr><td><img height=\"480\" width=\"640\" src=\"results.jpg\"></td></tr></table>"
   ]
  },
  {
   "cell_type": "markdown",
   "metadata": {},
   "source": [
    "***\n",
    "# <a name=\"problem\">Problem Statement</a>\n",
    "\n",
    "### _Business Problem_\n",
    "\"Dream Housing Finance company deals in all home loans. They have presence across all urban, semi urban and rural areas. Customer first apply for home loan after that company validates the customer eligibility for loan. Company wants to automate the loan eligibility process (real time) based on customer detail provided while filling online application form. These details are Gender, Marital Status, Education, Number of Dependents, Income, Loan Amount, Credit History and others. To automate this process, they have given a problem to identify the customers segments, those are eligible for loan amount so that they can specifically target these customers.\"\n",
    "\n",
    "Loan prediction is a very common real-life problem that every retail bank faces in their lending operations. If the loan approval process is automated, it can save a lot of man hours and improve the speed of service to the customers. The increase in customer satisfaction and savings in operational costs are significant. However, the benefits can only be reaped if the bank has a robust model to accurately predict which customer's loan it should approve and which to reject, in order to minimize the risk of loan default.\n",
    "\n",
    "### _Translate Business Problem into Data Science / Machine Learning problem_\n",
    "This is a classification problem where we have to predict whether a loan will be approved or not. Specifically, it is a binary classification problem where we have to predict either one of the two classes given i.e. approved (Y) or not approved (N). Another way to frame the problem is to predict whether the loan will likely to default or not, if it is likely to default, then the loan would not be approved, and vice versa. The dependent variable or target variable is the Loan_Status, while the rest are independent variable or features. We need to develop a model using the features to predict the target variable.\n",
    "\n"
   ]
  },
  {
   "cell_type": "markdown",
   "metadata": {},
   "source": [
    "***\n",
    "# <a name=\"hypothesis\">Hypothesis Generation</a>\n",
    "Hypothesis Generation is the process of listing out all the possible factors that can affect the outcome i.e. which of the features will have an impact on whether a loan will be approved or not. Some of the hypothesis are: \n",
    "\n",
    "- Education - Applicants with higher education level i.e. graduate level should have higher chances of loan approval\n",
    "- Income: Applicants with higher income should have more chances of loan approval\n",
    "- Loan amount: If the loan amount is less, the chances of loan approval should be high\n",
    "- Loan term: Loans with shorter time period should have higher chances of approval\n",
    "- Previous credit history: Applicants who have repayed their previous debts should have higher chances of loan approval\n",
    "- Monthly installment amount: If the monthly installment amount is low, the chances of loan approval should be high\n",
    "- And so on\n",
    "\n",
    "Some of the hypothesis seem intuitive while others may not. We will try to validate each of these hypothesis based on the dataset.\n",
    "\n"
   ]
  },
  {
   "cell_type": "markdown",
   "metadata": {},
   "source": [
    "***\n",
    "# <a name=\"data\">Data Collection</a>\n",
    "\n",
    "The data have already been provided by Analytics Vidhya on the [Hackathon page](https://datahack.analyticsvidhya.com/contest/practice-problem-loan-prediction-iii/). The training set will be used for training the model, i.e. our model will learn from this data. It contains all the independent variables and the target variable. The test set contains all the independent variables, but not the target variable. We will apply the model to predict the target variable for the test data. There are 13 columns of features and 614 rows of records in the training set and 12 columns of features and 367 rows of records in the test set. The dataset variables are summarized as below:\n",
    "\n",
    "| No | Variable | Type | Description |\n",
    "|---|---|---|---|---|\n",
    "| 1 | Loan_ID | Numerical - Discrete | Unique Loan ID |\n",
    "| 2 | Gender  | Categorical - Nominal  | Male / Female  |\n",
    "| 3 |  Married | Categorical - Nominal  | Applicant married (Y/N)  |\n",
    "| 4 | Dependents  | Categorical - Ordinal  |  Number of dependents (0, 1, 2, 3+) |\n",
    "| 5 | Education  |  Categorical - Nominal |  Applicant Education (Graduate / Under Graduate) |\n",
    "| 6 | Self_Employed  | Categorical - Nominal  |  Self employed (Y/N) |\n",
    "| 7 | ApplicantIncome  | Numerical - Continuous  | Applicant income  |\n",
    "| 8 | CoapplicantIncome  | Numerical - Continuous  |  Coapplicant income |\n",
    "| 9 |  LoanAmount | Numerical - Continuous  |  Loan amount in thousands |\n",
    "| 10 | Loan_Amount_Term  |  Numerical - Discrete |  Term of loan in months |\n",
    "| 11 | Credit_History  | Categorical - Nominal  |  credit history meets guidelines (0, 1) |\n",
    "| 12 | Property_Area  | Categorical - Ordinal  |  Urban / Semi Urban / Rural |\n",
    "| 13 | Loan_Status  |  Categorical - Nominal |  Loan approved (Y/N) |\n",
    "\n"
   ]
  },
  {
   "cell_type": "markdown",
   "metadata": {},
   "source": [
    "***\n",
    "# <a name=\"eda\">Exploratory Data Analysis (EDA)</a>\n",
    "We will use Python to explore the data in order to gain a better understanding of the features and target variable. We will also analyze the data to summarize their main characteristics, using various visualization techniques. "
   ]
  },
  {
   "cell_type": "code",
   "execution_count": 1,
   "metadata": {},
   "outputs": [],
   "source": [
    "# import libraries\n",
    "%matplotlib inline\n",
    "import numpy as np\n",
    "import pandas as pd\n",
    "import matplotlib.pyplot as plt\n",
    "import seaborn as sns\n",
    "import warnings\n",
    "warnings.filterwarnings(\"ignore\")"
   ]
  },
  {
   "cell_type": "code",
   "execution_count": 2,
   "metadata": {},
   "outputs": [],
   "source": [
    "# load the train and test dataset\n",
    "train = pd.read_csv(\"train_u6lujuX_CVtuZ9i.csv\")\n",
    "test = pd.read_csv(\"test_Y3wMUE5_7gLdaTN.csv\")"
   ]
  },
  {
   "cell_type": "code",
   "execution_count": 3,
   "metadata": {},
   "outputs": [],
   "source": [
    "# make a copy of original data\n",
    "# so that even if we have to make any changes in these datasets we would not lose the original datasets\n",
    "\n",
    "train_original = train.copy()\n",
    "test_original = test.copy()"
   ]
  },
  {
   "cell_type": "code",
   "execution_count": 4,
   "metadata": {},
   "outputs": [
    {
     "data": {
      "text/html": [
       "<div>\n",
       "<style scoped>\n",
       "    .dataframe tbody tr th:only-of-type {\n",
       "        vertical-align: middle;\n",
       "    }\n",
       "\n",
       "    .dataframe tbody tr th {\n",
       "        vertical-align: top;\n",
       "    }\n",
       "\n",
       "    .dataframe thead th {\n",
       "        text-align: right;\n",
       "    }\n",
       "</style>\n",
       "<table border=\"1\" class=\"dataframe\">\n",
       "  <thead>\n",
       "    <tr style=\"text-align: right;\">\n",
       "      <th></th>\n",
       "      <th>Loan_ID</th>\n",
       "      <th>Gender</th>\n",
       "      <th>Married</th>\n",
       "      <th>Dependents</th>\n",
       "      <th>Education</th>\n",
       "      <th>Self_Employed</th>\n",
       "      <th>ApplicantIncome</th>\n",
       "      <th>CoapplicantIncome</th>\n",
       "      <th>LoanAmount</th>\n",
       "      <th>Loan_Amount_Term</th>\n",
       "      <th>Credit_History</th>\n",
       "      <th>Property_Area</th>\n",
       "      <th>Loan_Status</th>\n",
       "    </tr>\n",
       "  </thead>\n",
       "  <tbody>\n",
       "    <tr>\n",
       "      <th>0</th>\n",
       "      <td>LP001002</td>\n",
       "      <td>Male</td>\n",
       "      <td>No</td>\n",
       "      <td>0</td>\n",
       "      <td>Graduate</td>\n",
       "      <td>No</td>\n",
       "      <td>5849</td>\n",
       "      <td>0.0</td>\n",
       "      <td>NaN</td>\n",
       "      <td>360.0</td>\n",
       "      <td>1.0</td>\n",
       "      <td>Urban</td>\n",
       "      <td>Y</td>\n",
       "    </tr>\n",
       "    <tr>\n",
       "      <th>1</th>\n",
       "      <td>LP001003</td>\n",
       "      <td>Male</td>\n",
       "      <td>Yes</td>\n",
       "      <td>1</td>\n",
       "      <td>Graduate</td>\n",
       "      <td>No</td>\n",
       "      <td>4583</td>\n",
       "      <td>1508.0</td>\n",
       "      <td>128.0</td>\n",
       "      <td>360.0</td>\n",
       "      <td>1.0</td>\n",
       "      <td>Rural</td>\n",
       "      <td>N</td>\n",
       "    </tr>\n",
       "    <tr>\n",
       "      <th>2</th>\n",
       "      <td>LP001005</td>\n",
       "      <td>Male</td>\n",
       "      <td>Yes</td>\n",
       "      <td>0</td>\n",
       "      <td>Graduate</td>\n",
       "      <td>Yes</td>\n",
       "      <td>3000</td>\n",
       "      <td>0.0</td>\n",
       "      <td>66.0</td>\n",
       "      <td>360.0</td>\n",
       "      <td>1.0</td>\n",
       "      <td>Urban</td>\n",
       "      <td>Y</td>\n",
       "    </tr>\n",
       "    <tr>\n",
       "      <th>3</th>\n",
       "      <td>LP001006</td>\n",
       "      <td>Male</td>\n",
       "      <td>Yes</td>\n",
       "      <td>0</td>\n",
       "      <td>Not Graduate</td>\n",
       "      <td>No</td>\n",
       "      <td>2583</td>\n",
       "      <td>2358.0</td>\n",
       "      <td>120.0</td>\n",
       "      <td>360.0</td>\n",
       "      <td>1.0</td>\n",
       "      <td>Urban</td>\n",
       "      <td>Y</td>\n",
       "    </tr>\n",
       "    <tr>\n",
       "      <th>4</th>\n",
       "      <td>LP001008</td>\n",
       "      <td>Male</td>\n",
       "      <td>No</td>\n",
       "      <td>0</td>\n",
       "      <td>Graduate</td>\n",
       "      <td>No</td>\n",
       "      <td>6000</td>\n",
       "      <td>0.0</td>\n",
       "      <td>141.0</td>\n",
       "      <td>360.0</td>\n",
       "      <td>1.0</td>\n",
       "      <td>Urban</td>\n",
       "      <td>Y</td>\n",
       "    </tr>\n",
       "  </tbody>\n",
       "</table>\n",
       "</div>"
      ],
      "text/plain": [
       "    Loan_ID Gender Married Dependents     Education Self_Employed  \\\n",
       "0  LP001002   Male      No          0      Graduate            No   \n",
       "1  LP001003   Male     Yes          1      Graduate            No   \n",
       "2  LP001005   Male     Yes          0      Graduate           Yes   \n",
       "3  LP001006   Male     Yes          0  Not Graduate            No   \n",
       "4  LP001008   Male      No          0      Graduate            No   \n",
       "\n",
       "   ApplicantIncome  CoapplicantIncome  LoanAmount  Loan_Amount_Term  \\\n",
       "0             5849                0.0         NaN             360.0   \n",
       "1             4583             1508.0       128.0             360.0   \n",
       "2             3000                0.0        66.0             360.0   \n",
       "3             2583             2358.0       120.0             360.0   \n",
       "4             6000                0.0       141.0             360.0   \n",
       "\n",
       "   Credit_History Property_Area Loan_Status  \n",
       "0             1.0         Urban           Y  \n",
       "1             1.0         Rural           N  \n",
       "2             1.0         Urban           Y  \n",
       "3             1.0         Urban           Y  \n",
       "4             1.0         Urban           Y  "
      ]
     },
     "execution_count": 4,
     "metadata": {},
     "output_type": "execute_result"
    }
   ],
   "source": [
    "# take a look at the top 5 rows of the train set, notice the column \"Loan_Status\"\n",
    "train.head()"
   ]
  },
  {
   "cell_type": "code",
   "execution_count": 5,
   "metadata": {},
   "outputs": [
    {
     "data": {
      "text/html": [
       "<div>\n",
       "<style scoped>\n",
       "    .dataframe tbody tr th:only-of-type {\n",
       "        vertical-align: middle;\n",
       "    }\n",
       "\n",
       "    .dataframe tbody tr th {\n",
       "        vertical-align: top;\n",
       "    }\n",
       "\n",
       "    .dataframe thead th {\n",
       "        text-align: right;\n",
       "    }\n",
       "</style>\n",
       "<table border=\"1\" class=\"dataframe\">\n",
       "  <thead>\n",
       "    <tr style=\"text-align: right;\">\n",
       "      <th></th>\n",
       "      <th>Loan_ID</th>\n",
       "      <th>Gender</th>\n",
       "      <th>Married</th>\n",
       "      <th>Dependents</th>\n",
       "      <th>Education</th>\n",
       "      <th>Self_Employed</th>\n",
       "      <th>ApplicantIncome</th>\n",
       "      <th>CoapplicantIncome</th>\n",
       "      <th>LoanAmount</th>\n",
       "      <th>Loan_Amount_Term</th>\n",
       "      <th>Credit_History</th>\n",
       "      <th>Property_Area</th>\n",
       "    </tr>\n",
       "  </thead>\n",
       "  <tbody>\n",
       "    <tr>\n",
       "      <th>0</th>\n",
       "      <td>LP001015</td>\n",
       "      <td>Male</td>\n",
       "      <td>Yes</td>\n",
       "      <td>0</td>\n",
       "      <td>Graduate</td>\n",
       "      <td>No</td>\n",
       "      <td>5720</td>\n",
       "      <td>0</td>\n",
       "      <td>110.0</td>\n",
       "      <td>360.0</td>\n",
       "      <td>1.0</td>\n",
       "      <td>Urban</td>\n",
       "    </tr>\n",
       "    <tr>\n",
       "      <th>1</th>\n",
       "      <td>LP001022</td>\n",
       "      <td>Male</td>\n",
       "      <td>Yes</td>\n",
       "      <td>1</td>\n",
       "      <td>Graduate</td>\n",
       "      <td>No</td>\n",
       "      <td>3076</td>\n",
       "      <td>1500</td>\n",
       "      <td>126.0</td>\n",
       "      <td>360.0</td>\n",
       "      <td>1.0</td>\n",
       "      <td>Urban</td>\n",
       "    </tr>\n",
       "    <tr>\n",
       "      <th>2</th>\n",
       "      <td>LP001031</td>\n",
       "      <td>Male</td>\n",
       "      <td>Yes</td>\n",
       "      <td>2</td>\n",
       "      <td>Graduate</td>\n",
       "      <td>No</td>\n",
       "      <td>5000</td>\n",
       "      <td>1800</td>\n",
       "      <td>208.0</td>\n",
       "      <td>360.0</td>\n",
       "      <td>1.0</td>\n",
       "      <td>Urban</td>\n",
       "    </tr>\n",
       "    <tr>\n",
       "      <th>3</th>\n",
       "      <td>LP001035</td>\n",
       "      <td>Male</td>\n",
       "      <td>Yes</td>\n",
       "      <td>2</td>\n",
       "      <td>Graduate</td>\n",
       "      <td>No</td>\n",
       "      <td>2340</td>\n",
       "      <td>2546</td>\n",
       "      <td>100.0</td>\n",
       "      <td>360.0</td>\n",
       "      <td>NaN</td>\n",
       "      <td>Urban</td>\n",
       "    </tr>\n",
       "    <tr>\n",
       "      <th>4</th>\n",
       "      <td>LP001051</td>\n",
       "      <td>Male</td>\n",
       "      <td>No</td>\n",
       "      <td>0</td>\n",
       "      <td>Not Graduate</td>\n",
       "      <td>No</td>\n",
       "      <td>3276</td>\n",
       "      <td>0</td>\n",
       "      <td>78.0</td>\n",
       "      <td>360.0</td>\n",
       "      <td>1.0</td>\n",
       "      <td>Urban</td>\n",
       "    </tr>\n",
       "  </tbody>\n",
       "</table>\n",
       "</div>"
      ],
      "text/plain": [
       "    Loan_ID Gender Married Dependents     Education Self_Employed  \\\n",
       "0  LP001015   Male     Yes          0      Graduate            No   \n",
       "1  LP001022   Male     Yes          1      Graduate            No   \n",
       "2  LP001031   Male     Yes          2      Graduate            No   \n",
       "3  LP001035   Male     Yes          2      Graduate            No   \n",
       "4  LP001051   Male      No          0  Not Graduate            No   \n",
       "\n",
       "   ApplicantIncome  CoapplicantIncome  LoanAmount  Loan_Amount_Term  \\\n",
       "0             5720                  0       110.0             360.0   \n",
       "1             3076               1500       126.0             360.0   \n",
       "2             5000               1800       208.0             360.0   \n",
       "3             2340               2546       100.0             360.0   \n",
       "4             3276                  0        78.0             360.0   \n",
       "\n",
       "   Credit_History Property_Area  \n",
       "0             1.0         Urban  \n",
       "1             1.0         Urban  \n",
       "2             1.0         Urban  \n",
       "3             NaN         Urban  \n",
       "4             1.0         Urban  "
      ]
     },
     "execution_count": 5,
     "metadata": {},
     "output_type": "execute_result"
    }
   ],
   "source": [
    "# take a look at the top 5 rows of the test set, notice the absense of \"Loan_Status\" that we will predict\n",
    "test.head()"
   ]
  },
  {
   "cell_type": "code",
   "execution_count": 6,
   "metadata": {},
   "outputs": [
    {
     "data": {
      "text/plain": [
       "((614, 13), (367, 12))"
      ]
     },
     "execution_count": 6,
     "metadata": {},
     "output_type": "execute_result"
    }
   ],
   "source": [
    "# show the shape of the dataset i.e. no of rows, no of columns\n",
    "train.shape, test.shape"
   ]
  },
  {
   "cell_type": "code",
   "execution_count": 7,
   "metadata": {},
   "outputs": [
    {
     "data": {
      "text/plain": [
       "(0.6258919469928644, 0.37410805300713557)"
      ]
     },
     "execution_count": 7,
     "metadata": {},
     "output_type": "execute_result"
    }
   ],
   "source": [
    "# calculate train-test-split ratio\n",
    "train.shape[0]/(train.shape[0]+test.shape[0]), test.shape[0]/(train.shape[0]+test.shape[0])"
   ]
  },
  {
   "cell_type": "code",
   "execution_count": 8,
   "metadata": {},
   "outputs": [
    {
     "data": {
      "text/plain": [
       "(Index(['Loan_ID', 'Gender', 'Married', 'Dependents', 'Education',\n",
       "        'Self_Employed', 'ApplicantIncome', 'CoapplicantIncome', 'LoanAmount',\n",
       "        'Loan_Amount_Term', 'Credit_History', 'Property_Area', 'Loan_Status'],\n",
       "       dtype='object'),\n",
       " Index(['Loan_ID', 'Gender', 'Married', 'Dependents', 'Education',\n",
       "        'Self_Employed', 'ApplicantIncome', 'CoapplicantIncome', 'LoanAmount',\n",
       "        'Loan_Amount_Term', 'Credit_History', 'Property_Area'],\n",
       "       dtype='object'))"
      ]
     },
     "execution_count": 8,
     "metadata": {},
     "output_type": "execute_result"
    }
   ],
   "source": [
    "# take a look at the features (i.e. independent variables) in the dataset\n",
    "train.columns, test.columns"
   ]
  },
  {
   "cell_type": "markdown",
   "metadata": {},
   "source": [
    "**Note: ** There are 13 columns of features and 614 rows of records in the train set and 12 columns of features and 367 rows of records in the test set. There are a total of 981 records combining both train and test set, representing a train-test-split of approx 63% and 37%. The features are similar in the test set as the train data except the Loan_Status. We will predict the Loan_Status using the model built using the train data."
   ]
  },
  {
   "cell_type": "code",
   "execution_count": 9,
   "metadata": {},
   "outputs": [
    {
     "data": {
      "text/plain": [
       "Loan_ID               object\n",
       "Gender                object\n",
       "Married               object\n",
       "Dependents            object\n",
       "Education             object\n",
       "Self_Employed         object\n",
       "ApplicantIncome        int64\n",
       "CoapplicantIncome    float64\n",
       "LoanAmount           float64\n",
       "Loan_Amount_Term     float64\n",
       "Credit_History       float64\n",
       "Property_Area         object\n",
       "Loan_Status           object\n",
       "dtype: object"
      ]
     },
     "execution_count": 9,
     "metadata": {},
     "output_type": "execute_result"
    }
   ],
   "source": [
    "# show the data types for each column of the train set\n",
    "train.dtypes"
   ]
  },
  {
   "cell_type": "code",
   "execution_count": 10,
   "metadata": {},
   "outputs": [
    {
     "name": "stdout",
     "output_type": "stream",
     "text": [
      "<class 'pandas.core.frame.DataFrame'>\n",
      "RangeIndex: 614 entries, 0 to 613\n",
      "Data columns (total 13 columns):\n",
      "Loan_ID              614 non-null object\n",
      "Gender               601 non-null object\n",
      "Married              611 non-null object\n",
      "Dependents           599 non-null object\n",
      "Education            614 non-null object\n",
      "Self_Employed        582 non-null object\n",
      "ApplicantIncome      614 non-null int64\n",
      "CoapplicantIncome    614 non-null float64\n",
      "LoanAmount           592 non-null float64\n",
      "Loan_Amount_Term     600 non-null float64\n",
      "Credit_History       564 non-null float64\n",
      "Property_Area        614 non-null object\n",
      "Loan_Status          614 non-null object\n",
      "dtypes: float64(4), int64(1), object(8)\n",
      "memory usage: 62.4+ KB\n"
     ]
    }
   ],
   "source": [
    "# concise summary of the dataset, info about index dtype, column dtypes, non-null values and memory usage\n",
    "train.info()"
   ]
  },
  {
   "cell_type": "markdown",
   "metadata": {},
   "source": [
    "**Note: ** There are 3 data types in the data\n",
    "- object: Object format means variables are categorical. Categorical variables in our dataset are: Loan_ID, Gender, Married, Dependents, Education, Self_Employed, Property_Area, Loan_Status\n",
    "- int64: It represents the integer variables. ApplicantIncome is of this format.\n",
    "- float64: It represents the variable which have some decimal values involved. They are also numerical variables. Numerical variables in our dataset are: CoapplicantIncome, LoanAmount, Loan_Amount_Term, and Credit_History\n",
    "\n",
    "**Why Data Types are important?**\n",
    "\n",
    "Datatypes are an important concept because statistical methods can only be used with certain data types. You have to analyze continuous data differently than categorical data otherwise it would result in a wrong analysis. Therefore knowing the types of data you are dealing with, enables you to choose the correct method of analysis."
   ]
  },
  {
   "cell_type": "markdown",
   "metadata": {},
   "source": [
    "## Univariate analysis\n",
    "Univariate analysis is when we analyze each variable individually. For categorical features we can use frequency table or bar plots which will calculate the number of each category in a particular variable. For numerical features, a histogram or a box-plot can be used to look at the distribution of the variable. With a histogram, you can check the central tendency, variability, modality, and kurtosis of a distribution. Note that a histogram can’t show you if you have any outliers. This is why we also use box-plots.\n",
    "\n",
    "### Target Variable (Categorical)\n",
    "We will first look at the target variable, i.e., Loan_Status. As it is a categorical variable, let us look at its frequency table, percentage distribution and bar plot."
   ]
  },
  {
   "cell_type": "code",
   "execution_count": 11,
   "metadata": {},
   "outputs": [
    {
     "data": {
      "text/plain": [
       "Y    422\n",
       "N    192\n",
       "Name: Loan_Status, dtype: int64"
      ]
     },
     "execution_count": 11,
     "metadata": {},
     "output_type": "execute_result"
    }
   ],
   "source": [
    "# frequency table of a variable will give us the count of each category in that variable\n",
    "train['Loan_Status'].value_counts()"
   ]
  },
  {
   "cell_type": "code",
   "execution_count": 12,
   "metadata": {},
   "outputs": [
    {
     "data": {
      "text/plain": [
       "Y    0.687296\n",
       "N    0.312704\n",
       "Name: Loan_Status, dtype: float64"
      ]
     },
     "execution_count": 12,
     "metadata": {},
     "output_type": "execute_result"
    }
   ],
   "source": [
    "# percentage distribution can be calculated by setting the normalize=True to show proportions instead of number \n",
    "train['Loan_Status'].value_counts(normalize=True)"
   ]
  },
  {
   "cell_type": "code",
   "execution_count": 13,
   "metadata": {},
   "outputs": [
    {
     "data": {
      "text/plain": [
       "<matplotlib.axes._subplots.AxesSubplot at 0x28004add5f8>"
      ]
     },
     "execution_count": 13,
     "metadata": {},
     "output_type": "execute_result"
    },
    {
     "data": {
      "image/png": "[encoded data removed]",
      "text/plain": [
       "<Figure size 432x288 with 1 Axes>"
      ]
     },
     "metadata": {},
     "output_type": "display_data"
    }
   ],
   "source": [
    "# bar plot to visualize the frequency\n",
    "train['Loan_Status'].value_counts().plot.bar()"
   ]
  },
  {
   "cell_type": "markdown",
   "metadata": {},
   "source": [
    "**Note: ** The loan of 422 (around 69%) people out of 614 was approved. There is no imbalanced classes issue in this dataset, thus accuracy as an evaluation metric should be appropriate. On the other hand, if there are imbalanced or skewed classes, then we might need to use precision and recall as evaluation metrics."
   ]
  },
  {
   "cell_type": "markdown",
   "metadata": {},
   "source": [
    "### Independent Variable (Categorical)\n",
    "There are 5 features that are categorical or binary (Gender, Married, Self_Employed, Credit_History, Education)"
   ]
  },
  {
   "cell_type": "code",
   "execution_count": 14,
   "metadata": {},
   "outputs": [
    {
     "data": {
      "image/png": "[encoded data removed]",
      "text/plain": [
       "<Figure size 1440x720 with 5 Axes>"
      ]
     },
     "metadata": {},
     "output_type": "display_data"
    }
   ],
   "source": [
    "# Visualizing categorical features\n",
    "# plt.figure(1)\n",
    "plt.subplot(231)\n",
    "train['Gender'].value_counts(normalize=True).plot.bar(figsize=(20,10), title= 'Gender')\n",
    "\n",
    "plt.subplot(232)\n",
    "train['Married'].value_counts(normalize=True).plot.bar(title= 'Married')\n",
    "\n",
    "plt.subplot(233)\n",
    "train['Self_Employed'].value_counts(normalize=True).plot.bar(title= 'Self_Employed')\n",
    "\n",
    "plt.subplot(234)\n",
    "train['Credit_History'].value_counts(normalize=True).plot.bar(title= 'Credit_History')\n",
    "\n",
    "plt.subplot(235)\n",
    "train['Education'].value_counts(normalize=True).plot.bar(title= 'Education')\n",
    "\n",
    "plt.show()"
   ]
  },
  {
   "cell_type": "markdown",
   "metadata": {},
   "source": [
    "It can be inferred from the above bar plots that:\n",
    "\n",
    "- 80% applicants in the dataset are male.\n",
    "- Around 65% of the applicants in the dataset are married.\n",
    "- Around 15% applicants in the dataset are self employed.\n",
    "- Around 85% applicants have credit history (repaid their debts).\n",
    "- Around 80% of the applicants are Graduate.\n"
   ]
  },
  {
   "cell_type": "markdown",
   "metadata": {},
   "source": [
    "### Independent Variable (Ordinal)\n",
    "There are 2 features that are Ordinal: Variables in categorical features having some order involved (Dependents, Property_Area)"
   ]
  },
  {
   "cell_type": "code",
   "execution_count": 15,
   "metadata": {},
   "outputs": [
    {
     "data": {
      "image/png": "[encoded data removed]",
      "text/plain": [
       "<Figure size 864x288 with 2 Axes>"
      ]
     },
     "metadata": {},
     "output_type": "display_data"
    }
   ],
   "source": [
    "# Visualizing remaining categorical features\n",
    "# plt.figure(1)\n",
    "plt.subplot(121)\n",
    "train['Dependents'].value_counts(normalize=True).plot.bar(figsize=(12,4), title= 'Dependents')\n",
    "\n",
    "plt.subplot(122)\n",
    "train['Property_Area'].value_counts(normalize=True).plot.bar(title= 'Property_Area')\n",
    "\n",
    "plt.show()"
   ]
  },
  {
   "cell_type": "markdown",
   "metadata": {},
   "source": [
    "Following inferences can be made from the above bar plots:\n",
    "\n",
    "- More than half of the applicants don’t have any dependents.\n",
    "- Most of the applicants are from Semiurban area.\n"
   ]
  },
  {
   "cell_type": "markdown",
   "metadata": {},
   "source": [
    "### Independent Variable (Numerical)\n",
    "There are 4 features that are Numerical: These features have numerical values (ApplicantIncome, CoapplicantIncome, LoanAmount, Loan_Amount_Term)\n",
    "\n",
    "Firstly, let’s look at the Applicant income distribution:"
   ]
  },
  {
   "cell_type": "code",
   "execution_count": 16,
   "metadata": {},
   "outputs": [
    {
     "data": {
      "image/png": "[encoded data removed]",
      "text/plain": [
       "<Figure size 1152x360 with 2 Axes>"
      ]
     },
     "metadata": {},
     "output_type": "display_data"
    }
   ],
   "source": [
    "# Visualizing ApplicantIncome\n",
    "# plt.figure(1)\n",
    "plt.subplot(121)\n",
    "sns.distplot(train['ApplicantIncome']);\n",
    "\n",
    "plt.subplot(122)\n",
    "train['ApplicantIncome'].plot.box(figsize=(16,5))\n",
    "\n",
    "plt.show()"
   ]
  },
  {
   "cell_type": "markdown",
   "metadata": {},
   "source": [
    "It can be inferred that most of the data in the distribution of applicant income is towards left which means it is not normally distributed. The distribution is right-skewed (positive skewness). We will try to make it normal in later sections as algorithms works better if the data is normally distributed.\n",
    "\n",
    "The boxplot confirms the presence of a lot of outliers/extreme values. This can be attributed to the income disparity in the society. Part of this can be driven by the fact that we are looking at people with different education levels. Let us segregate them by Education:"
   ]
  },
  {
   "cell_type": "code",
   "execution_count": 17,
   "metadata": {},
   "outputs": [
    {
     "data": {
      "text/plain": [
       "Text(0.5,0.98,'')"
      ]
     },
     "execution_count": 17,
     "metadata": {},
     "output_type": "execute_result"
    },
    {
     "data": {
      "image/png": "[encoded data removed]",
      "text/plain": [
       "<Figure size 432x288 with 1 Axes>"
      ]
     },
     "metadata": {},
     "output_type": "display_data"
    }
   ],
   "source": [
    "train.boxplot(column='ApplicantIncome', by = 'Education')\n",
    "plt.suptitle(\"\")"
   ]
  },
  {
   "cell_type": "markdown",
   "metadata": {},
   "source": [
    "We can see that there are a higher number of graduates with very high incomes, which are appearing to be the outliers."
   ]
  },
  {
   "cell_type": "markdown",
   "metadata": {},
   "source": [
    "Secondly, Let’s look at the Coapplicant income distribution."
   ]
  },
  {
   "cell_type": "code",
   "execution_count": 18,
   "metadata": {},
   "outputs": [
    {
     "data": {
      "image/png": "[encoded data removed]",
      "text/plain": [
       "<Figure size 1152x360 with 2 Axes>"
      ]
     },
     "metadata": {},
     "output_type": "display_data"
    }
   ],
   "source": [
    "# plt.figure(1)\n",
    "plt.subplot(121)\n",
    "sns.distplot(train['CoapplicantIncome']);\n",
    "\n",
    "plt.subplot(122)\n",
    "train['CoapplicantIncome'].plot.box(figsize=(16,5))\n",
    "\n",
    "plt.show()"
   ]
  },
  {
   "cell_type": "markdown",
   "metadata": {},
   "source": [
    "We see a similar distribution as that of the applicant income. Majority of coapplicant’s income ranges from 0 to 5000. We also see a lot of outliers in the coapplicant income and it is not normally distributed.\n",
    "\n",
    "Thirdly, let’s look at the distribution of LoanAmount variable."
   ]
  },
  {
   "cell_type": "code",
   "execution_count": 19,
   "metadata": {},
   "outputs": [
    {
     "data": {
      "image/png": "[encoded data removed]",
      "text/plain": [
       "<Figure size 1152x360 with 2 Axes>"
      ]
     },
     "metadata": {},
     "output_type": "display_data"
    }
   ],
   "source": [
    "# plt.figure(1)\n",
    "plt.subplot(121)\n",
    "df=train.dropna()\n",
    "sns.distplot(df['LoanAmount']);\n",
    "\n",
    "plt.subplot(122)\n",
    "train['LoanAmount'].plot.box(figsize=(16,5))\n",
    "\n",
    "plt.show()"
   ]
  },
  {
   "cell_type": "markdown",
   "metadata": {},
   "source": [
    "We see a fairly normal distribution (albeit still slightly right-skewed) for LoanAmount but there are lot of outliers in this variable. We will treat the outliers in later sections.\n",
    "\n",
    "Lastly, let’s look at the distribution of Loan_Amount_Term variable. Since Loan_Amount_Term is a discrete variable, we will use frequency table and bar plots which will calculate the number of each category."
   ]
  },
  {
   "cell_type": "code",
   "execution_count": 20,
   "metadata": {},
   "outputs": [
    {
     "data": {
      "text/plain": [
       "360.0    512\n",
       "180.0     44\n",
       "480.0     15\n",
       "300.0     13\n",
       "84.0       4\n",
       "240.0      4\n",
       "120.0      3\n",
       "36.0       2\n",
       "60.0       2\n",
       "12.0       1\n",
       "Name: Loan_Amount_Term, dtype: int64"
      ]
     },
     "execution_count": 20,
     "metadata": {},
     "output_type": "execute_result"
    }
   ],
   "source": [
    "# frequency table of a variable will give us the count of each category in that variable\n",
    "train['Loan_Amount_Term'].value_counts()"
   ]
  },
  {
   "cell_type": "code",
   "execution_count": 21,
   "metadata": {},
   "outputs": [
    {
     "data": {
      "text/plain": [
       "<matplotlib.axes._subplots.AxesSubplot at 0x28005043cf8>"
      ]
     },
     "execution_count": 21,
     "metadata": {},
     "output_type": "execute_result"
    },
    {
     "data": {
      "image/png": "[encoded data removed]",
      "text/plain": [
       "<Figure size 432x288 with 1 Axes>"
      ]
     },
     "metadata": {},
     "output_type": "display_data"
    }
   ],
   "source": [
    "# plot bar chart\n",
    "train['Loan_Amount_Term'].value_counts(normalize=True).plot.bar(title= 'Loan_Amount_Term')"
   ]
  },
  {
   "cell_type": "markdown",
   "metadata": {},
   "source": [
    "It can be inferred from the above bar plot that:\n",
    "\n",
    "- Around 85% of the loans are 360 months term or 30 years period\n",
    "\n",
    "\n",
    "Now we would like to know how well each feature correlate with Loan Status. So, in the next section we will look at bivariate analysis."
   ]
  },
  {
   "cell_type": "markdown",
   "metadata": {},
   "source": [
    "## Bivariate Analysis\n",
    "After looking at every variable individually in univariate analysis, we will now explore them again with respect to the target variable in bivariate analysis. We can use bivariate analysis to test the hypotheses that we generated earlier.\n",
    "\n"
   ]
  },
  {
   "cell_type": "markdown",
   "metadata": {},
   "source": [
    "**Categorical Independent Variable vs Target Variable**\n",
    "\n",
    "First of all we will find the relation between target variable and categorical independent variables. Let us look at the stacked bar plot now which will give us the proportion of approved and unapproved loans. For example, we want to see whether an applicant's gender will have any effect on approval chances."
   ]
  },
  {
   "cell_type": "code",
   "execution_count": 22,
   "metadata": {},
   "outputs": [
    {
     "name": "stdout",
     "output_type": "stream",
     "text": [
      "Loan_Status    N    Y\n",
      "Gender               \n",
      "Female        37   75\n",
      "Male         150  339\n"
     ]
    },
    {
     "data": {
      "image/png": "[encoded data removed]",
      "text/plain": [
       "<Figure size 288x288 with 1 Axes>"
      ]
     },
     "metadata": {},
     "output_type": "display_data"
    }
   ],
   "source": [
    "print(pd.crosstab(train['Gender'],train['Loan_Status']))\n",
    "\n",
    "Gender = pd.crosstab(train['Gender'],train['Loan_Status'])\n",
    "Gender.div(Gender.sum(1).astype(float), axis = 0).plot(kind=\"bar\", stacked=True, figsize=(4,4))\n",
    "plt.xlabel('Gender')\n",
    "p = plt.ylabel('Percentage')"
   ]
  },
  {
   "cell_type": "code",
   "execution_count": 23,
   "metadata": {},
   "outputs": [
    {
     "name": "stdout",
     "output_type": "stream",
     "text": [
      "Loan_Status    N    Y\n",
      "Married              \n",
      "No            79  134\n",
      "Yes          113  285\n"
     ]
    },
    {
     "data": {
      "image/png": "[encoded data removed]",
      "text/plain": [
       "<Figure size 288x288 with 1 Axes>"
      ]
     },
     "metadata": {},
     "output_type": "display_data"
    }
   ],
   "source": [
    "print(pd.crosstab(train['Married'],train['Loan_Status']))\n",
    "\n",
    "Married = pd.crosstab(train['Married'],train['Loan_Status'])\n",
    "Married.div(Married.sum(1).astype(float), axis=0).plot(kind=\"bar\", stacked=True, figsize=(4,4))\n",
    "plt.xlabel('Married')\n",
    "p = plt.ylabel('Percentage')"
   ]
  },
  {
   "cell_type": "code",
   "execution_count": 24,
   "metadata": {},
   "outputs": [
    {
     "name": "stdout",
     "output_type": "stream",
     "text": [
      "Loan_Status    N    Y\n",
      "Dependents           \n",
      "0            107  238\n",
      "1             36   66\n",
      "2             25   76\n",
      "3+            18   33\n"
     ]
    },
    {
     "data": {
      "image/png": "[encoded data removed]",
      "text/plain": [
       "<Figure size 432x288 with 1 Axes>"
      ]
     },
     "metadata": {},
     "output_type": "display_data"
    }
   ],
   "source": [
    "print(pd.crosstab(train['Dependents'],train['Loan_Status']))\n",
    "\n",
    "Dependents=pd.crosstab(train['Dependents'],train['Loan_Status'])\n",
    "Dependents.div(Dependents.sum(1).astype(float), axis=0).plot(kind=\"bar\", stacked=True)\n",
    "plt.xlabel('Dependents')\n",
    "p = plt.ylabel('Percentage')"
   ]
  },
  {
   "cell_type": "code",
   "execution_count": 25,
   "metadata": {},
   "outputs": [
    {
     "name": "stdout",
     "output_type": "stream",
     "text": [
      "Loan_Status     N    Y\n",
      "Education             \n",
      "Graduate      140  340\n",
      "Not Graduate   52   82\n"
     ]
    },
    {
     "data": {
      "image/png": "[encoded data removed]",
      "text/plain": [
       "<Figure size 288x288 with 1 Axes>"
      ]
     },
     "metadata": {},
     "output_type": "display_data"
    }
   ],
   "source": [
    "print(pd.crosstab(train['Education'],train['Loan_Status']))\n",
    "\n",
    "Education=pd.crosstab(train['Education'],train['Loan_Status'])\n",
    "Education.div(Education.sum(1).astype(float), axis=0).plot(kind=\"bar\", stacked=True, figsize=(4,4))\n",
    "plt.xlabel('Education')\n",
    "p = plt.ylabel('Percentage')"
   ]
  },
  {
   "cell_type": "code",
   "execution_count": 26,
   "metadata": {},
   "outputs": [
    {
     "name": "stdout",
     "output_type": "stream",
     "text": [
      "Loan_Status      N    Y\n",
      "Self_Employed          \n",
      "No             157  343\n",
      "Yes             26   56\n"
     ]
    },
    {
     "data": {
      "image/png": "[encoded data removed]",
      "text/plain": [
       "<Figure size 288x288 with 1 Axes>"
      ]
     },
     "metadata": {},
     "output_type": "display_data"
    }
   ],
   "source": [
    "print(pd.crosstab(train['Self_Employed'],train['Loan_Status']))\n",
    "\n",
    "Self_Employed=pd.crosstab(train['Self_Employed'],train['Loan_Status'])\n",
    "Self_Employed.div(Self_Employed.sum(1).astype(float), axis=0).plot(kind=\"bar\", stacked=True, figsize=(4,4))\n",
    "plt.xlabel('Self_Employed')\n",
    "p = plt.ylabel('Percentage')"
   ]
  },
  {
   "cell_type": "code",
   "execution_count": 27,
   "metadata": {},
   "outputs": [
    {
     "name": "stdout",
     "output_type": "stream",
     "text": [
      "Loan_Status      N    Y\n",
      "Credit_History         \n",
      "0.0             82    7\n",
      "1.0             97  378\n"
     ]
    },
    {
     "data": {
      "image/png": "[encoded data removed]",
      "text/plain": [
       "<Figure size 288x288 with 1 Axes>"
      ]
     },
     "metadata": {},
     "output_type": "display_data"
    }
   ],
   "source": [
    "print(pd.crosstab(train['Credit_History'],train['Loan_Status']))\n",
    "\n",
    "Credit_History=pd.crosstab(train['Credit_History'],train['Loan_Status'])\n",
    "Credit_History.div(Credit_History.sum(1).astype(float), axis=0).plot(kind=\"bar\", stacked=True, figsize=(4,4))\n",
    "plt.xlabel('Credit_History')\n",
    "p = plt.ylabel('Percentage')"
   ]
  },
  {
   "cell_type": "code",
   "execution_count": 28,
   "metadata": {},
   "outputs": [
    {
     "name": "stdout",
     "output_type": "stream",
     "text": [
      "Loan_Status     N    Y\n",
      "Property_Area         \n",
      "Rural          69  110\n",
      "Semiurban      54  179\n",
      "Urban          69  133\n"
     ]
    },
    {
     "data": {
      "image/png": "[encoded data removed]",
      "text/plain": [
       "<Figure size 432x288 with 1 Axes>"
      ]
     },
     "metadata": {},
     "output_type": "display_data"
    }
   ],
   "source": [
    "print(pd.crosstab(train['Property_Area'],train['Loan_Status']))\n",
    "\n",
    "Property_Area=pd.crosstab(train['Property_Area'],train['Loan_Status'])\n",
    "Property_Area.div(Property_Area.sum(1).astype(float), axis=0).plot(kind=\"bar\", stacked=True)\n",
    "plt.xlabel('Property_Area')\n",
    "P = plt.ylabel('Percentage')"
   ]
  },
  {
   "cell_type": "markdown",
   "metadata": {},
   "source": [
    "From the bar charts above, it can be inferred that:\n",
    "- proportion of male and female applicants is more or less same for both approved and unapproved loans\n",
    "- proportion of married applicants is higher for the approved loans\n",
    "- distribution of applicants with 1 or 3+ dependents is similar across both the categories of Loan_Status\n",
    "- there is nothing significant we can infer from Self_Employed vs Loan_Status plot.\n",
    "- proportion of loans getting approved for graduates is higher compared to non-graduates\n",
    "- it seems people with credit history as 1 are more likely to get their loans approved\n",
    "- proportion of loans getting approved in semiurban area is higher as compared to that in rural or urban areas.\n",
    "\n",
    "Now let’s visualize numerical independent variables with respect to target variable."
   ]
  },
  {
   "cell_type": "markdown",
   "metadata": {},
   "source": [
    "**Numerical Independent Variable vs Target Variable**<br>\n",
    "\n",
    "We will try to find the mean income of people for which the loan has been approved vs the mean income of people for which the loan has not been approved."
   ]
  },
  {
   "cell_type": "code",
   "execution_count": 29,
   "metadata": {},
   "outputs": [
    {
     "name": "stdout",
     "output_type": "stream",
     "text": [
      "Loan_Status\n",
      "N    5446.078125\n",
      "Y    5384.068720\n",
      "Name: ApplicantIncome, dtype: float64\n"
     ]
    },
    {
     "data": {
      "text/plain": [
       "<matplotlib.axes._subplots.AxesSubplot at 0x2800551a5f8>"
      ]
     },
     "execution_count": 29,
     "metadata": {},
     "output_type": "execute_result"
    },
    {
     "data": {
      "image/png": "[encoded data removed]",
      "text/plain": [
       "<Figure size 432x288 with 1 Axes>"
      ]
     },
     "metadata": {},
     "output_type": "display_data"
    }
   ],
   "source": [
    "print(train.groupby('Loan_Status')['ApplicantIncome'].mean())\n",
    "\n",
    "train.groupby('Loan_Status')['ApplicantIncome'].mean().plot.bar()"
   ]
  },
  {
   "cell_type": "markdown",
   "metadata": {},
   "source": [
    "Here the y-axis represents the mean applicant income. We don’t see any significant difference in the mean income between those approval and not approved applicant (5384 vs 5446). \n",
    "\n",
    "So, let’s make bins for the applicant income variable based on the values in it and analyze the corresponding loan status for each bin."
   ]
  },
  {
   "cell_type": "code",
   "execution_count": 30,
   "metadata": {},
   "outputs": [],
   "source": [
    "# making bins for applicant income variable\n",
    "bins = [0,2500,4000,6000,81000]\n",
    "group = ['Low','Average','High', 'Very high']\n",
    "train['Income_bin'] = pd.cut(df['ApplicantIncome'],bins,labels=group)"
   ]
  },
  {
   "cell_type": "code",
   "execution_count": 31,
   "metadata": {},
   "outputs": [
    {
     "data": {
      "text/html": [
       "<div>\n",
       "<style scoped>\n",
       "    .dataframe tbody tr th:only-of-type {\n",
       "        vertical-align: middle;\n",
       "    }\n",
       "\n",
       "    .dataframe tbody tr th {\n",
       "        vertical-align: top;\n",
       "    }\n",
       "\n",
       "    .dataframe thead th {\n",
       "        text-align: right;\n",
       "    }\n",
       "</style>\n",
       "<table border=\"1\" class=\"dataframe\">\n",
       "  <thead>\n",
       "    <tr style=\"text-align: right;\">\n",
       "      <th></th>\n",
       "      <th>Loan_ID</th>\n",
       "      <th>Gender</th>\n",
       "      <th>Married</th>\n",
       "      <th>Dependents</th>\n",
       "      <th>Education</th>\n",
       "      <th>Self_Employed</th>\n",
       "      <th>ApplicantIncome</th>\n",
       "      <th>CoapplicantIncome</th>\n",
       "      <th>LoanAmount</th>\n",
       "      <th>Loan_Amount_Term</th>\n",
       "      <th>Credit_History</th>\n",
       "      <th>Property_Area</th>\n",
       "      <th>Loan_Status</th>\n",
       "      <th>Income_bin</th>\n",
       "    </tr>\n",
       "  </thead>\n",
       "  <tbody>\n",
       "    <tr>\n",
       "      <th>0</th>\n",
       "      <td>LP001002</td>\n",
       "      <td>Male</td>\n",
       "      <td>No</td>\n",
       "      <td>0</td>\n",
       "      <td>Graduate</td>\n",
       "      <td>No</td>\n",
       "      <td>5849</td>\n",
       "      <td>0.0</td>\n",
       "      <td>NaN</td>\n",
       "      <td>360.0</td>\n",
       "      <td>1.0</td>\n",
       "      <td>Urban</td>\n",
       "      <td>Y</td>\n",
       "      <td>NaN</td>\n",
       "    </tr>\n",
       "    <tr>\n",
       "      <th>1</th>\n",
       "      <td>LP001003</td>\n",
       "      <td>Male</td>\n",
       "      <td>Yes</td>\n",
       "      <td>1</td>\n",
       "      <td>Graduate</td>\n",
       "      <td>No</td>\n",
       "      <td>4583</td>\n",
       "      <td>1508.0</td>\n",
       "      <td>128.0</td>\n",
       "      <td>360.0</td>\n",
       "      <td>1.0</td>\n",
       "      <td>Rural</td>\n",
       "      <td>N</td>\n",
       "      <td>High</td>\n",
       "    </tr>\n",
       "    <tr>\n",
       "      <th>2</th>\n",
       "      <td>LP001005</td>\n",
       "      <td>Male</td>\n",
       "      <td>Yes</td>\n",
       "      <td>0</td>\n",
       "      <td>Graduate</td>\n",
       "      <td>Yes</td>\n",
       "      <td>3000</td>\n",
       "      <td>0.0</td>\n",
       "      <td>66.0</td>\n",
       "      <td>360.0</td>\n",
       "      <td>1.0</td>\n",
       "      <td>Urban</td>\n",
       "      <td>Y</td>\n",
       "      <td>Average</td>\n",
       "    </tr>\n",
       "    <tr>\n",
       "      <th>3</th>\n",
       "      <td>LP001006</td>\n",
       "      <td>Male</td>\n",
       "      <td>Yes</td>\n",
       "      <td>0</td>\n",
       "      <td>Not Graduate</td>\n",
       "      <td>No</td>\n",
       "      <td>2583</td>\n",
       "      <td>2358.0</td>\n",
       "      <td>120.0</td>\n",
       "      <td>360.0</td>\n",
       "      <td>1.0</td>\n",
       "      <td>Urban</td>\n",
       "      <td>Y</td>\n",
       "      <td>Average</td>\n",
       "    </tr>\n",
       "    <tr>\n",
       "      <th>4</th>\n",
       "      <td>LP001008</td>\n",
       "      <td>Male</td>\n",
       "      <td>No</td>\n",
       "      <td>0</td>\n",
       "      <td>Graduate</td>\n",
       "      <td>No</td>\n",
       "      <td>6000</td>\n",
       "      <td>0.0</td>\n",
       "      <td>141.0</td>\n",
       "      <td>360.0</td>\n",
       "      <td>1.0</td>\n",
       "      <td>Urban</td>\n",
       "      <td>Y</td>\n",
       "      <td>High</td>\n",
       "    </tr>\n",
       "    <tr>\n",
       "      <th>5</th>\n",
       "      <td>LP001011</td>\n",
       "      <td>Male</td>\n",
       "      <td>Yes</td>\n",
       "      <td>2</td>\n",
       "      <td>Graduate</td>\n",
       "      <td>Yes</td>\n",
       "      <td>5417</td>\n",
       "      <td>4196.0</td>\n",
       "      <td>267.0</td>\n",
       "      <td>360.0</td>\n",
       "      <td>1.0</td>\n",
       "      <td>Urban</td>\n",
       "      <td>Y</td>\n",
       "      <td>High</td>\n",
       "    </tr>\n",
       "    <tr>\n",
       "      <th>6</th>\n",
       "      <td>LP001013</td>\n",
       "      <td>Male</td>\n",
       "      <td>Yes</td>\n",
       "      <td>0</td>\n",
       "      <td>Not Graduate</td>\n",
       "      <td>No</td>\n",
       "      <td>2333</td>\n",
       "      <td>1516.0</td>\n",
       "      <td>95.0</td>\n",
       "      <td>360.0</td>\n",
       "      <td>1.0</td>\n",
       "      <td>Urban</td>\n",
       "      <td>Y</td>\n",
       "      <td>Low</td>\n",
       "    </tr>\n",
       "    <tr>\n",
       "      <th>7</th>\n",
       "      <td>LP001014</td>\n",
       "      <td>Male</td>\n",
       "      <td>Yes</td>\n",
       "      <td>3+</td>\n",
       "      <td>Graduate</td>\n",
       "      <td>No</td>\n",
       "      <td>3036</td>\n",
       "      <td>2504.0</td>\n",
       "      <td>158.0</td>\n",
       "      <td>360.0</td>\n",
       "      <td>0.0</td>\n",
       "      <td>Semiurban</td>\n",
       "      <td>N</td>\n",
       "      <td>Average</td>\n",
       "    </tr>\n",
       "  </tbody>\n",
       "</table>\n",
       "</div>"
      ],
      "text/plain": [
       "    Loan_ID Gender Married Dependents     Education Self_Employed  \\\n",
       "0  LP001002   Male      No          0      Graduate            No   \n",
       "1  LP001003   Male     Yes          1      Graduate            No   \n",
       "2  LP001005   Male     Yes          0      Graduate           Yes   \n",
       "3  LP001006   Male     Yes          0  Not Graduate            No   \n",
       "4  LP001008   Male      No          0      Graduate            No   \n",
       "5  LP001011   Male     Yes          2      Graduate           Yes   \n",
       "6  LP001013   Male     Yes          0  Not Graduate            No   \n",
       "7  LP001014   Male     Yes         3+      Graduate            No   \n",
       "\n",
       "   ApplicantIncome  CoapplicantIncome  LoanAmount  Loan_Amount_Term  \\\n",
       "0             5849                0.0         NaN             360.0   \n",
       "1             4583             1508.0       128.0             360.0   \n",
       "2             3000                0.0        66.0             360.0   \n",
       "3             2583             2358.0       120.0             360.0   \n",
       "4             6000                0.0       141.0             360.0   \n",
       "5             5417             4196.0       267.0             360.0   \n",
       "6             2333             1516.0        95.0             360.0   \n",
       "7             3036             2504.0       158.0             360.0   \n",
       "\n",
       "   Credit_History Property_Area Loan_Status Income_bin  \n",
       "0             1.0         Urban           Y        NaN  \n",
       "1             1.0         Rural           N       High  \n",
       "2             1.0         Urban           Y    Average  \n",
       "3             1.0         Urban           Y    Average  \n",
       "4             1.0         Urban           Y       High  \n",
       "5             1.0         Urban           Y       High  \n",
       "6             1.0         Urban           Y        Low  \n",
       "7             0.0     Semiurban           N    Average  "
      ]
     },
     "execution_count": 31,
     "metadata": {},
     "output_type": "execute_result"
    }
   ],
   "source": [
    "# take a look at the train set\n",
    "train.head(8)"
   ]
  },
  {
   "cell_type": "code",
   "execution_count": 32,
   "metadata": {},
   "outputs": [
    {
     "name": "stdout",
     "output_type": "stream",
     "text": [
      "Loan_Status   N    Y\n",
      "Income_bin          \n",
      "Low          26   57\n",
      "Average      51  123\n",
      "High         32   79\n",
      "Very high    39   73\n"
     ]
    },
    {
     "data": {
      "image/png": "[encoded data removed]",
      "text/plain": [
       "<Figure size 432x288 with 1 Axes>"
      ]
     },
     "metadata": {},
     "output_type": "display_data"
    }
   ],
   "source": [
    "print(pd.crosstab(train['Income_bin'],train['Loan_Status']))\n",
    "\n",
    "Income_bin = pd.crosstab(train['Income_bin'],train['Loan_Status'])\n",
    "Income_bin.div(Income_bin.sum(1).astype(float), axis=0).plot(kind=\"bar\", stacked=True)\n",
    "plt.xlabel('ApplicantIncome')\n",
    "P = plt.ylabel('Percentage')"
   ]
  },
  {
   "cell_type": "markdown",
   "metadata": {},
   "source": [
    "It can be inferred that Applicant income does not affect the chances of loan approval which contradicts our hypothesis in which we assumed that if the applicant income is high the chances of loan approval will also be high.\n",
    "\n",
    "We will analyze the Coapplicant income and loan amount variable in similar manner."
   ]
  },
  {
   "cell_type": "code",
   "execution_count": 33,
   "metadata": {},
   "outputs": [],
   "source": [
    "# making bins for Coapplicant income variable\n",
    "bins = [0,1000,3000,42000]\n",
    "group = ['Low','Average','High']\n",
    "train['Coapplicant_Income_bin'] = pd.cut(df['CoapplicantIncome'],bins,labels=group)"
   ]
  },
  {
   "cell_type": "code",
   "execution_count": 34,
   "metadata": {},
   "outputs": [
    {
     "data": {
      "image/png": "[encoded data removed]",
      "text/plain": [
       "<Figure size 432x288 with 1 Axes>"
      ]
     },
     "metadata": {},
     "output_type": "display_data"
    }
   ],
   "source": [
    "# plot the chart\n",
    "Coapplicant_Income_bin = pd.crosstab(train['Coapplicant_Income_bin'],train['Loan_Status'])\n",
    "Coapplicant_Income_bin.div(Coapplicant_Income_bin.sum(1).astype(float), axis=0).plot(kind=\"bar\", stacked=True)\n",
    "plt.xlabel('CoapplicantIncome')\n",
    "P = plt.ylabel('Percentage')"
   ]
  },
  {
   "cell_type": "code",
   "execution_count": 35,
   "metadata": {},
   "outputs": [
    {
     "name": "stdout",
     "output_type": "stream",
     "text": [
      "273\n"
     ]
    },
    {
     "data": {
      "text/plain": [
       "('Percentage of CoapplicantIncome = 0 is:', 0.44462540716612375)"
      ]
     },
     "execution_count": 35,
     "metadata": {},
     "output_type": "execute_result"
    }
   ],
   "source": [
    "print(len(train[train[\"CoapplicantIncome\"] == 0]))\n",
    "\"Percentage of CoapplicantIncome = 0 is:\",  len(train[train[\"CoapplicantIncome\"] == 0])/len(train[\"CoapplicantIncome\"])"
   ]
  },
  {
   "cell_type": "markdown",
   "metadata": {},
   "source": [
    "It shows that if coapplicant’s income is less the chances of loan approval are high. But this does not look right. The possible reason behind this may be that most of the applicants don’t have any coapplicant, so the coapplicant income for such applicants is 0 and hence the loan approval is not dependent on it. So we can make a new variable in which we will combine the applicant’s and coapplicant’s income to visualize the combined effect of income on loan approval.\n",
    "\n",
    "Let us combine the Applicant Income and Coapplicant Income and see the combined effect of Total Income on the Loan_Status."
   ]
  },
  {
   "cell_type": "code",
   "execution_count": 36,
   "metadata": {},
   "outputs": [],
   "source": [
    "# create a new variable\n",
    "train['Total_Income'] = train['ApplicantIncome'] + train['CoapplicantIncome']"
   ]
  },
  {
   "cell_type": "code",
   "execution_count": 37,
   "metadata": {},
   "outputs": [],
   "source": [
    "# making bins for Total Income variable\n",
    "bins = [0,2500,4000,6000,81000]\n",
    "group = ['Low','Average','High', 'Very high']\n",
    "train['Total_Income_bin'] = pd.cut(train['Total_Income'],bins,labels=group)"
   ]
  },
  {
   "cell_type": "code",
   "execution_count": 38,
   "metadata": {},
   "outputs": [
    {
     "data": {
      "image/png": "[encoded data removed]",
      "text/plain": [
       "<Figure size 432x288 with 1 Axes>"
      ]
     },
     "metadata": {},
     "output_type": "display_data"
    }
   ],
   "source": [
    "# plot the chart\n",
    "Total_Income_bin = pd.crosstab(train['Total_Income_bin'],train['Loan_Status'])\n",
    "Total_Income_bin.div(Total_Income_bin.sum(1).astype(float), axis=0).plot(kind=\"bar\", stacked=True)\n",
    "plt.xlabel('Total_Income')\n",
    "P = plt.ylabel('Percentage')"
   ]
  },
  {
   "cell_type": "markdown",
   "metadata": {},
   "source": [
    "We can see that Proportion of loans getting approved for applicants having low Total_Income is very less as compared to that of applicants with Average, High and Very High Income. This is more consistent with our hypothesis with applicants with high income  will have more chances of loan approval.\n",
    "\n",
    "Let’s visualize the Loan amount variable."
   ]
  },
  {
   "cell_type": "code",
   "execution_count": 39,
   "metadata": {},
   "outputs": [],
   "source": [
    "# making bins for LoanAmount variable\n",
    "bins = [0,100,200,700]\n",
    "group = ['Low','Average','High']\n",
    "train['LoanAmount_bin'] = pd.cut(df['LoanAmount'],bins,labels=group)"
   ]
  },
  {
   "cell_type": "code",
   "execution_count": 40,
   "metadata": {},
   "outputs": [
    {
     "data": {
      "image/png": "[encoded data removed]",
      "text/plain": [
       "<Figure size 432x288 with 1 Axes>"
      ]
     },
     "metadata": {},
     "output_type": "display_data"
    }
   ],
   "source": [
    "# plot the chart \n",
    "LoanAmount_bin = pd.crosstab(train['LoanAmount_bin'],train['Loan_Status'])\n",
    "LoanAmount_bin.div(LoanAmount_bin.sum(1).astype(float), axis=0).plot(kind=\"bar\", stacked=True)\n",
    "plt.xlabel('LoanAmount')\n",
    "P = plt.ylabel('Percentage')"
   ]
  },
  {
   "cell_type": "markdown",
   "metadata": {},
   "source": [
    "It can be seen that the proportion of approved loans is higher for Low and Average Loan Amount as compared to that of High Loan Amount which supports our hypothesis in which we considered that the chances of loan approval will be high when the loan amount is less. \n",
    "\n",
    "Let’s drop the bins which we created for the exploration part. "
   ]
  },
  {
   "cell_type": "code",
   "execution_count": 41,
   "metadata": {},
   "outputs": [
    {
     "data": {
      "text/html": [
       "<div>\n",
       "<style scoped>\n",
       "    .dataframe tbody tr th:only-of-type {\n",
       "        vertical-align: middle;\n",
       "    }\n",
       "\n",
       "    .dataframe tbody tr th {\n",
       "        vertical-align: top;\n",
       "    }\n",
       "\n",
       "    .dataframe thead th {\n",
       "        text-align: right;\n",
       "    }\n",
       "</style>\n",
       "<table border=\"1\" class=\"dataframe\">\n",
       "  <thead>\n",
       "    <tr style=\"text-align: right;\">\n",
       "      <th></th>\n",
       "      <th>Loan_ID</th>\n",
       "      <th>Gender</th>\n",
       "      <th>Married</th>\n",
       "      <th>Dependents</th>\n",
       "      <th>Education</th>\n",
       "      <th>Self_Employed</th>\n",
       "      <th>ApplicantIncome</th>\n",
       "      <th>CoapplicantIncome</th>\n",
       "      <th>LoanAmount</th>\n",
       "      <th>Loan_Amount_Term</th>\n",
       "      <th>Credit_History</th>\n",
       "      <th>Property_Area</th>\n",
       "      <th>Loan_Status</th>\n",
       "      <th>Income_bin</th>\n",
       "      <th>Coapplicant_Income_bin</th>\n",
       "      <th>Total_Income</th>\n",
       "      <th>Total_Income_bin</th>\n",
       "      <th>LoanAmount_bin</th>\n",
       "    </tr>\n",
       "  </thead>\n",
       "  <tbody>\n",
       "    <tr>\n",
       "      <th>0</th>\n",
       "      <td>LP001002</td>\n",
       "      <td>Male</td>\n",
       "      <td>No</td>\n",
       "      <td>0</td>\n",
       "      <td>Graduate</td>\n",
       "      <td>No</td>\n",
       "      <td>5849</td>\n",
       "      <td>0.0</td>\n",
       "      <td>NaN</td>\n",
       "      <td>360.0</td>\n",
       "      <td>1.0</td>\n",
       "      <td>Urban</td>\n",
       "      <td>Y</td>\n",
       "      <td>NaN</td>\n",
       "      <td>NaN</td>\n",
       "      <td>5849.0</td>\n",
       "      <td>High</td>\n",
       "      <td>NaN</td>\n",
       "    </tr>\n",
       "    <tr>\n",
       "      <th>1</th>\n",
       "      <td>LP001003</td>\n",
       "      <td>Male</td>\n",
       "      <td>Yes</td>\n",
       "      <td>1</td>\n",
       "      <td>Graduate</td>\n",
       "      <td>No</td>\n",
       "      <td>4583</td>\n",
       "      <td>1508.0</td>\n",
       "      <td>128.0</td>\n",
       "      <td>360.0</td>\n",
       "      <td>1.0</td>\n",
       "      <td>Rural</td>\n",
       "      <td>N</td>\n",
       "      <td>High</td>\n",
       "      <td>Average</td>\n",
       "      <td>6091.0</td>\n",
       "      <td>Very high</td>\n",
       "      <td>Average</td>\n",
       "    </tr>\n",
       "    <tr>\n",
       "      <th>2</th>\n",
       "      <td>LP001005</td>\n",
       "      <td>Male</td>\n",
       "      <td>Yes</td>\n",
       "      <td>0</td>\n",
       "      <td>Graduate</td>\n",
       "      <td>Yes</td>\n",
       "      <td>3000</td>\n",
       "      <td>0.0</td>\n",
       "      <td>66.0</td>\n",
       "      <td>360.0</td>\n",
       "      <td>1.0</td>\n",
       "      <td>Urban</td>\n",
       "      <td>Y</td>\n",
       "      <td>Average</td>\n",
       "      <td>NaN</td>\n",
       "      <td>3000.0</td>\n",
       "      <td>Average</td>\n",
       "      <td>Low</td>\n",
       "    </tr>\n",
       "    <tr>\n",
       "      <th>3</th>\n",
       "      <td>LP001006</td>\n",
       "      <td>Male</td>\n",
       "      <td>Yes</td>\n",
       "      <td>0</td>\n",
       "      <td>Not Graduate</td>\n",
       "      <td>No</td>\n",
       "      <td>2583</td>\n",
       "      <td>2358.0</td>\n",
       "      <td>120.0</td>\n",
       "      <td>360.0</td>\n",
       "      <td>1.0</td>\n",
       "      <td>Urban</td>\n",
       "      <td>Y</td>\n",
       "      <td>Average</td>\n",
       "      <td>Average</td>\n",
       "      <td>4941.0</td>\n",
       "      <td>High</td>\n",
       "      <td>Average</td>\n",
       "    </tr>\n",
       "    <tr>\n",
       "      <th>4</th>\n",
       "      <td>LP001008</td>\n",
       "      <td>Male</td>\n",
       "      <td>No</td>\n",
       "      <td>0</td>\n",
       "      <td>Graduate</td>\n",
       "      <td>No</td>\n",
       "      <td>6000</td>\n",
       "      <td>0.0</td>\n",
       "      <td>141.0</td>\n",
       "      <td>360.0</td>\n",
       "      <td>1.0</td>\n",
       "      <td>Urban</td>\n",
       "      <td>Y</td>\n",
       "      <td>High</td>\n",
       "      <td>NaN</td>\n",
       "      <td>6000.0</td>\n",
       "      <td>High</td>\n",
       "      <td>Average</td>\n",
       "    </tr>\n",
       "  </tbody>\n",
       "</table>\n",
       "</div>"
      ],
      "text/plain": [
       "    Loan_ID Gender Married Dependents     Education Self_Employed  \\\n",
       "0  LP001002   Male      No          0      Graduate            No   \n",
       "1  LP001003   Male     Yes          1      Graduate            No   \n",
       "2  LP001005   Male     Yes          0      Graduate           Yes   \n",
       "3  LP001006   Male     Yes          0  Not Graduate            No   \n",
       "4  LP001008   Male      No          0      Graduate            No   \n",
       "\n",
       "   ApplicantIncome  CoapplicantIncome  LoanAmount  Loan_Amount_Term  \\\n",
       "0             5849                0.0         NaN             360.0   \n",
       "1             4583             1508.0       128.0             360.0   \n",
       "2             3000                0.0        66.0             360.0   \n",
       "3             2583             2358.0       120.0             360.0   \n",
       "4             6000                0.0       141.0             360.0   \n",
       "\n",
       "   Credit_History Property_Area Loan_Status Income_bin Coapplicant_Income_bin  \\\n",
       "0             1.0         Urban           Y        NaN                    NaN   \n",
       "1             1.0         Rural           N       High                Average   \n",
       "2             1.0         Urban           Y    Average                    NaN   \n",
       "3             1.0         Urban           Y    Average                Average   \n",
       "4             1.0         Urban           Y       High                    NaN   \n",
       "\n",
       "   Total_Income Total_Income_bin LoanAmount_bin  \n",
       "0        5849.0             High            NaN  \n",
       "1        6091.0        Very high        Average  \n",
       "2        3000.0          Average            Low  \n",
       "3        4941.0             High        Average  \n",
       "4        6000.0             High        Average  "
      ]
     },
     "execution_count": 41,
     "metadata": {},
     "output_type": "execute_result"
    }
   ],
   "source": [
    "# before dropping\n",
    "train.head()"
   ]
  },
  {
   "cell_type": "code",
   "execution_count": 42,
   "metadata": {},
   "outputs": [],
   "source": [
    "# drop the new variable of bins\n",
    "train = train.drop(['Income_bin', 'Coapplicant_Income_bin', 'LoanAmount_bin', 'Total_Income_bin', 'Total_Income'], axis=1)"
   ]
  },
  {
   "cell_type": "code",
   "execution_count": 43,
   "metadata": {},
   "outputs": [
    {
     "data": {
      "text/html": [
       "<div>\n",
       "<style scoped>\n",
       "    .dataframe tbody tr th:only-of-type {\n",
       "        vertical-align: middle;\n",
       "    }\n",
       "\n",
       "    .dataframe tbody tr th {\n",
       "        vertical-align: top;\n",
       "    }\n",
       "\n",
       "    .dataframe thead th {\n",
       "        text-align: right;\n",
       "    }\n",
       "</style>\n",
       "<table border=\"1\" class=\"dataframe\">\n",
       "  <thead>\n",
       "    <tr style=\"text-align: right;\">\n",
       "      <th></th>\n",
       "      <th>Loan_ID</th>\n",
       "      <th>Gender</th>\n",
       "      <th>Married</th>\n",
       "      <th>Dependents</th>\n",
       "      <th>Education</th>\n",
       "      <th>Self_Employed</th>\n",
       "      <th>ApplicantIncome</th>\n",
       "      <th>CoapplicantIncome</th>\n",
       "      <th>LoanAmount</th>\n",
       "      <th>Loan_Amount_Term</th>\n",
       "      <th>Credit_History</th>\n",
       "      <th>Property_Area</th>\n",
       "      <th>Loan_Status</th>\n",
       "    </tr>\n",
       "  </thead>\n",
       "  <tbody>\n",
       "    <tr>\n",
       "      <th>0</th>\n",
       "      <td>LP001002</td>\n",
       "      <td>Male</td>\n",
       "      <td>No</td>\n",
       "      <td>0</td>\n",
       "      <td>Graduate</td>\n",
       "      <td>No</td>\n",
       "      <td>5849</td>\n",
       "      <td>0.0</td>\n",
       "      <td>NaN</td>\n",
       "      <td>360.0</td>\n",
       "      <td>1.0</td>\n",
       "      <td>Urban</td>\n",
       "      <td>Y</td>\n",
       "    </tr>\n",
       "    <tr>\n",
       "      <th>1</th>\n",
       "      <td>LP001003</td>\n",
       "      <td>Male</td>\n",
       "      <td>Yes</td>\n",
       "      <td>1</td>\n",
       "      <td>Graduate</td>\n",
       "      <td>No</td>\n",
       "      <td>4583</td>\n",
       "      <td>1508.0</td>\n",
       "      <td>128.0</td>\n",
       "      <td>360.0</td>\n",
       "      <td>1.0</td>\n",
       "      <td>Rural</td>\n",
       "      <td>N</td>\n",
       "    </tr>\n",
       "    <tr>\n",
       "      <th>2</th>\n",
       "      <td>LP001005</td>\n",
       "      <td>Male</td>\n",
       "      <td>Yes</td>\n",
       "      <td>0</td>\n",
       "      <td>Graduate</td>\n",
       "      <td>Yes</td>\n",
       "      <td>3000</td>\n",
       "      <td>0.0</td>\n",
       "      <td>66.0</td>\n",
       "      <td>360.0</td>\n",
       "      <td>1.0</td>\n",
       "      <td>Urban</td>\n",
       "      <td>Y</td>\n",
       "    </tr>\n",
       "    <tr>\n",
       "      <th>3</th>\n",
       "      <td>LP001006</td>\n",
       "      <td>Male</td>\n",
       "      <td>Yes</td>\n",
       "      <td>0</td>\n",
       "      <td>Not Graduate</td>\n",
       "      <td>No</td>\n",
       "      <td>2583</td>\n",
       "      <td>2358.0</td>\n",
       "      <td>120.0</td>\n",
       "      <td>360.0</td>\n",
       "      <td>1.0</td>\n",
       "      <td>Urban</td>\n",
       "      <td>Y</td>\n",
       "    </tr>\n",
       "    <tr>\n",
       "      <th>4</th>\n",
       "      <td>LP001008</td>\n",
       "      <td>Male</td>\n",
       "      <td>No</td>\n",
       "      <td>0</td>\n",
       "      <td>Graduate</td>\n",
       "      <td>No</td>\n",
       "      <td>6000</td>\n",
       "      <td>0.0</td>\n",
       "      <td>141.0</td>\n",
       "      <td>360.0</td>\n",
       "      <td>1.0</td>\n",
       "      <td>Urban</td>\n",
       "      <td>Y</td>\n",
       "    </tr>\n",
       "  </tbody>\n",
       "</table>\n",
       "</div>"
      ],
      "text/plain": [
       "    Loan_ID Gender Married Dependents     Education Self_Employed  \\\n",
       "0  LP001002   Male      No          0      Graduate            No   \n",
       "1  LP001003   Male     Yes          1      Graduate            No   \n",
       "2  LP001005   Male     Yes          0      Graduate           Yes   \n",
       "3  LP001006   Male     Yes          0  Not Graduate            No   \n",
       "4  LP001008   Male      No          0      Graduate            No   \n",
       "\n",
       "   ApplicantIncome  CoapplicantIncome  LoanAmount  Loan_Amount_Term  \\\n",
       "0             5849                0.0         NaN             360.0   \n",
       "1             4583             1508.0       128.0             360.0   \n",
       "2             3000                0.0        66.0             360.0   \n",
       "3             2583             2358.0       120.0             360.0   \n",
       "4             6000                0.0       141.0             360.0   \n",
       "\n",
       "   Credit_History Property_Area Loan_Status  \n",
       "0             1.0         Urban           Y  \n",
       "1             1.0         Rural           N  \n",
       "2             1.0         Urban           Y  \n",
       "3             1.0         Urban           Y  \n",
       "4             1.0         Urban           Y  "
      ]
     },
     "execution_count": 43,
     "metadata": {},
     "output_type": "execute_result"
    }
   ],
   "source": [
    "# after dropping\n",
    "train.head()"
   ]
  },
  {
   "cell_type": "markdown",
   "metadata": {},
   "source": [
    "We will change the 3+ in dependents variable to 3 to make it a numerical variable. We will also convert the target variable’s categories into 0 and 1 so that we can find its correlation with numerical variables. One more reason to do so is few models like logistic regression takes only numeric values as input. We will replace N with 0 and Y with 1."
   ]
  },
  {
   "cell_type": "code",
   "execution_count": 44,
   "metadata": {},
   "outputs": [],
   "source": [
    "# replacing 3+ in Dependents variable with 3 for both train and test set\n",
    "train['Dependents'].replace('3+', 3, inplace=True)\n",
    "test['Dependents'].replace('3+', 3, inplace=True)"
   ]
  },
  {
   "cell_type": "code",
   "execution_count": 45,
   "metadata": {},
   "outputs": [],
   "source": [
    "# replacing Y and N in Loan_Status variable with 1 and 0 respectively\n",
    "train['Loan_Status'].replace('N', 0, inplace=True)\n",
    "train['Loan_Status'].replace('Y', 1, inplace=True)"
   ]
  },
  {
   "cell_type": "code",
   "execution_count": 46,
   "metadata": {},
   "outputs": [
    {
     "data": {
      "text/html": [
       "<div>\n",
       "<style scoped>\n",
       "    .dataframe tbody tr th:only-of-type {\n",
       "        vertical-align: middle;\n",
       "    }\n",
       "\n",
       "    .dataframe tbody tr th {\n",
       "        vertical-align: top;\n",
       "    }\n",
       "\n",
       "    .dataframe thead th {\n",
       "        text-align: right;\n",
       "    }\n",
       "</style>\n",
       "<table border=\"1\" class=\"dataframe\">\n",
       "  <thead>\n",
       "    <tr style=\"text-align: right;\">\n",
       "      <th></th>\n",
       "      <th>Loan_ID</th>\n",
       "      <th>Gender</th>\n",
       "      <th>Married</th>\n",
       "      <th>Dependents</th>\n",
       "      <th>Education</th>\n",
       "      <th>Self_Employed</th>\n",
       "      <th>ApplicantIncome</th>\n",
       "      <th>CoapplicantIncome</th>\n",
       "      <th>LoanAmount</th>\n",
       "      <th>Loan_Amount_Term</th>\n",
       "      <th>Credit_History</th>\n",
       "      <th>Property_Area</th>\n",
       "      <th>Loan_Status</th>\n",
       "    </tr>\n",
       "  </thead>\n",
       "  <tbody>\n",
       "    <tr>\n",
       "      <th>0</th>\n",
       "      <td>LP001002</td>\n",
       "      <td>Male</td>\n",
       "      <td>No</td>\n",
       "      <td>0</td>\n",
       "      <td>Graduate</td>\n",
       "      <td>No</td>\n",
       "      <td>5849</td>\n",
       "      <td>0.0</td>\n",
       "      <td>NaN</td>\n",
       "      <td>360.0</td>\n",
       "      <td>1.0</td>\n",
       "      <td>Urban</td>\n",
       "      <td>1</td>\n",
       "    </tr>\n",
       "    <tr>\n",
       "      <th>1</th>\n",
       "      <td>LP001003</td>\n",
       "      <td>Male</td>\n",
       "      <td>Yes</td>\n",
       "      <td>1</td>\n",
       "      <td>Graduate</td>\n",
       "      <td>No</td>\n",
       "      <td>4583</td>\n",
       "      <td>1508.0</td>\n",
       "      <td>128.0</td>\n",
       "      <td>360.0</td>\n",
       "      <td>1.0</td>\n",
       "      <td>Rural</td>\n",
       "      <td>0</td>\n",
       "    </tr>\n",
       "    <tr>\n",
       "      <th>2</th>\n",
       "      <td>LP001005</td>\n",
       "      <td>Male</td>\n",
       "      <td>Yes</td>\n",
       "      <td>0</td>\n",
       "      <td>Graduate</td>\n",
       "      <td>Yes</td>\n",
       "      <td>3000</td>\n",
       "      <td>0.0</td>\n",
       "      <td>66.0</td>\n",
       "      <td>360.0</td>\n",
       "      <td>1.0</td>\n",
       "      <td>Urban</td>\n",
       "      <td>1</td>\n",
       "    </tr>\n",
       "    <tr>\n",
       "      <th>3</th>\n",
       "      <td>LP001006</td>\n",
       "      <td>Male</td>\n",
       "      <td>Yes</td>\n",
       "      <td>0</td>\n",
       "      <td>Not Graduate</td>\n",
       "      <td>No</td>\n",
       "      <td>2583</td>\n",
       "      <td>2358.0</td>\n",
       "      <td>120.0</td>\n",
       "      <td>360.0</td>\n",
       "      <td>1.0</td>\n",
       "      <td>Urban</td>\n",
       "      <td>1</td>\n",
       "    </tr>\n",
       "    <tr>\n",
       "      <th>4</th>\n",
       "      <td>LP001008</td>\n",
       "      <td>Male</td>\n",
       "      <td>No</td>\n",
       "      <td>0</td>\n",
       "      <td>Graduate</td>\n",
       "      <td>No</td>\n",
       "      <td>6000</td>\n",
       "      <td>0.0</td>\n",
       "      <td>141.0</td>\n",
       "      <td>360.0</td>\n",
       "      <td>1.0</td>\n",
       "      <td>Urban</td>\n",
       "      <td>1</td>\n",
       "    </tr>\n",
       "  </tbody>\n",
       "</table>\n",
       "</div>"
      ],
      "text/plain": [
       "    Loan_ID Gender Married Dependents     Education Self_Employed  \\\n",
       "0  LP001002   Male      No          0      Graduate            No   \n",
       "1  LP001003   Male     Yes          1      Graduate            No   \n",
       "2  LP001005   Male     Yes          0      Graduate           Yes   \n",
       "3  LP001006   Male     Yes          0  Not Graduate            No   \n",
       "4  LP001008   Male      No          0      Graduate            No   \n",
       "\n",
       "   ApplicantIncome  CoapplicantIncome  LoanAmount  Loan_Amount_Term  \\\n",
       "0             5849                0.0         NaN             360.0   \n",
       "1             4583             1508.0       128.0             360.0   \n",
       "2             3000                0.0        66.0             360.0   \n",
       "3             2583             2358.0       120.0             360.0   \n",
       "4             6000                0.0       141.0             360.0   \n",
       "\n",
       "   Credit_History Property_Area  Loan_Status  \n",
       "0             1.0         Urban            1  \n",
       "1             1.0         Rural            0  \n",
       "2             1.0         Urban            1  \n",
       "3             1.0         Urban            1  \n",
       "4             1.0         Urban            1  "
      ]
     },
     "execution_count": 46,
     "metadata": {},
     "output_type": "execute_result"
    }
   ],
   "source": [
    "# check the dataset\n",
    "train.head()"
   ]
  },
  {
   "cell_type": "markdown",
   "metadata": {},
   "source": [
    "Now lets look at the correlation between all the numerical variables. We can use the `corr()` to compute pairwise correlation of columns, excluding NA/null values using pearson correlation coefficient. Then we will use the heat map to visualize the correlation. Heatmaps visualize data through variations in coloring. The variables with darker color means their correlation is more."
   ]
  },
  {
   "cell_type": "code",
   "execution_count": 47,
   "metadata": {},
   "outputs": [
    {
     "data": {
      "text/html": [
       "<div>\n",
       "<style scoped>\n",
       "    .dataframe tbody tr th:only-of-type {\n",
       "        vertical-align: middle;\n",
       "    }\n",
       "\n",
       "    .dataframe tbody tr th {\n",
       "        vertical-align: top;\n",
       "    }\n",
       "\n",
       "    .dataframe thead th {\n",
       "        text-align: right;\n",
       "    }\n",
       "</style>\n",
       "<table border=\"1\" class=\"dataframe\">\n",
       "  <thead>\n",
       "    <tr style=\"text-align: right;\">\n",
       "      <th></th>\n",
       "      <th>ApplicantIncome</th>\n",
       "      <th>CoapplicantIncome</th>\n",
       "      <th>LoanAmount</th>\n",
       "      <th>Loan_Amount_Term</th>\n",
       "      <th>Credit_History</th>\n",
       "      <th>Loan_Status</th>\n",
       "    </tr>\n",
       "  </thead>\n",
       "  <tbody>\n",
       "    <tr>\n",
       "      <th>ApplicantIncome</th>\n",
       "      <td>1.000000</td>\n",
       "      <td>-0.116605</td>\n",
       "      <td>0.570909</td>\n",
       "      <td>-0.045306</td>\n",
       "      <td>-0.014715</td>\n",
       "      <td>-0.004710</td>\n",
       "    </tr>\n",
       "    <tr>\n",
       "      <th>CoapplicantIncome</th>\n",
       "      <td>-0.116605</td>\n",
       "      <td>1.000000</td>\n",
       "      <td>0.188619</td>\n",
       "      <td>-0.059878</td>\n",
       "      <td>-0.002056</td>\n",
       "      <td>-0.059187</td>\n",
       "    </tr>\n",
       "    <tr>\n",
       "      <th>LoanAmount</th>\n",
       "      <td>0.570909</td>\n",
       "      <td>0.188619</td>\n",
       "      <td>1.000000</td>\n",
       "      <td>0.039447</td>\n",
       "      <td>-0.008433</td>\n",
       "      <td>-0.037318</td>\n",
       "    </tr>\n",
       "    <tr>\n",
       "      <th>Loan_Amount_Term</th>\n",
       "      <td>-0.045306</td>\n",
       "      <td>-0.059878</td>\n",
       "      <td>0.039447</td>\n",
       "      <td>1.000000</td>\n",
       "      <td>0.001470</td>\n",
       "      <td>-0.021268</td>\n",
       "    </tr>\n",
       "    <tr>\n",
       "      <th>Credit_History</th>\n",
       "      <td>-0.014715</td>\n",
       "      <td>-0.002056</td>\n",
       "      <td>-0.008433</td>\n",
       "      <td>0.001470</td>\n",
       "      <td>1.000000</td>\n",
       "      <td>0.561678</td>\n",
       "    </tr>\n",
       "    <tr>\n",
       "      <th>Loan_Status</th>\n",
       "      <td>-0.004710</td>\n",
       "      <td>-0.059187</td>\n",
       "      <td>-0.037318</td>\n",
       "      <td>-0.021268</td>\n",
       "      <td>0.561678</td>\n",
       "      <td>1.000000</td>\n",
       "    </tr>\n",
       "  </tbody>\n",
       "</table>\n",
       "</div>"
      ],
      "text/plain": [
       "                   ApplicantIncome  CoapplicantIncome  LoanAmount  \\\n",
       "ApplicantIncome           1.000000          -0.116605    0.570909   \n",
       "CoapplicantIncome        -0.116605           1.000000    0.188619   \n",
       "LoanAmount                0.570909           0.188619    1.000000   \n",
       "Loan_Amount_Term         -0.045306          -0.059878    0.039447   \n",
       "Credit_History           -0.014715          -0.002056   -0.008433   \n",
       "Loan_Status              -0.004710          -0.059187   -0.037318   \n",
       "\n",
       "                   Loan_Amount_Term  Credit_History  Loan_Status  \n",
       "ApplicantIncome           -0.045306       -0.014715    -0.004710  \n",
       "CoapplicantIncome         -0.059878       -0.002056    -0.059187  \n",
       "LoanAmount                 0.039447       -0.008433    -0.037318  \n",
       "Loan_Amount_Term           1.000000        0.001470    -0.021268  \n",
       "Credit_History             0.001470        1.000000     0.561678  \n",
       "Loan_Status               -0.021268        0.561678     1.000000  "
      ]
     },
     "execution_count": 47,
     "metadata": {},
     "output_type": "execute_result"
    },
    {
     "data": {
      "image/png": "[encoded data removed]",
      "text/plain": [
       "<Figure size 648x432 with 2 Axes>"
      ]
     },
     "metadata": {},
     "output_type": "display_data"
    }
   ],
   "source": [
    "# calculate and visualize correlation matrix\n",
    "matrix = train.corr()\n",
    "f, ax = plt.subplots(figsize=(9, 6))\n",
    "sns.heatmap(matrix, vmax=1, square=True, cmap=\"BuPu\", annot=True)\n",
    "\n",
    "matrix"
   ]
  },
  {
   "cell_type": "markdown",
   "metadata": {},
   "source": [
    "**Note: ** We see that the most correlated variables are \n",
    "- (ApplicantIncome - LoanAmount) with correlation coefficient of 0.57\n",
    "- (Credit_History - Loan_Status) with correlation coefficient of 0.56\n",
    "- LoanAmount is also correlated with CoapplicantIncome with correlation coefficient of 0.19."
   ]
  },
  {
   "cell_type": "markdown",
   "metadata": {},
   "source": [
    "***\n",
    "# <a name=\"pre\">Data Pre-processing</a>\n",
    "\n",
    "Data pre-processing is a data mining technique that involves transforming raw data into an understandable format. Real-world data is often incomplete, inconsistent, and/or lacking in certain behaviors or trends, and is likely to contain many errors. Data pre-processing is a method of resolving such issues."
   ]
  },
  {
   "cell_type": "markdown",
   "metadata": {},
   "source": [
    "## Missing value and outlier treatment\n",
    "After exploring all the variables in our data, we can now impute the missing values and treat the outliers because missing data and outliers can have adverse effect on the model performance.\n",
    "\n",
    "### Missing value imputation\n",
    "\n",
    "Let’s list out feature-wise count of missing values."
   ]
  },
  {
   "cell_type": "code",
   "execution_count": 48,
   "metadata": {},
   "outputs": [
    {
     "data": {
      "text/plain": [
       "Loan_ID               0\n",
       "Gender               13\n",
       "Married               3\n",
       "Dependents           15\n",
       "Education             0\n",
       "Self_Employed        32\n",
       "ApplicantIncome       0\n",
       "CoapplicantIncome     0\n",
       "LoanAmount           22\n",
       "Loan_Amount_Term     14\n",
       "Credit_History       50\n",
       "Property_Area         0\n",
       "Loan_Status           0\n",
       "dtype: int64"
      ]
     },
     "execution_count": 48,
     "metadata": {},
     "output_type": "execute_result"
    }
   ],
   "source": [
    "# check for missing values\n",
    "train.isnull().sum()"
   ]
  },
  {
   "cell_type": "markdown",
   "metadata": {},
   "source": [
    "There are missing values in Gender, Married, Dependents, Self_Employed, LoanAmount, Loan_Amount_Term and Credit_History features. We will treat the missing values in all the features one by one.\n",
    "\n",
    "We can consider these methods to fill the missing values:\n",
    "\n",
    "- For numerical variables: imputation using mean or median\n",
    "- For categorical variables: imputation using mode\n",
    "\n",
    "There are very less missing values in Gender, Married, Dependents, Credit_History and Self_Employed features so we can fill them using the mode of the features. If an independent variable in our dataset has huge amount of missing data e.g. 80% missing values in it, then we would drop the variable from the dataset."
   ]
  },
  {
   "cell_type": "code",
   "execution_count": 49,
   "metadata": {},
   "outputs": [],
   "source": [
    "# replace missing values with the mode\n",
    "train['Gender'].fillna(train['Gender'].mode()[0], inplace=True)\n",
    "train['Married'].fillna(train['Married'].mode()[0], inplace=True)\n",
    "train['Dependents'].fillna(train['Dependents'].mode()[0], inplace=True)\n",
    "train['Self_Employed'].fillna(train['Self_Employed'].mode()[0], inplace=True)\n",
    "train['Credit_History'].fillna(train['Credit_History'].mode()[0], inplace=True)"
   ]
  },
  {
   "cell_type": "markdown",
   "metadata": {},
   "source": [
    "Now let’s try to find a way to fill the missing values in Loan_Amount_Term. We will look at the value count of the Loan amount term variable."
   ]
  },
  {
   "cell_type": "code",
   "execution_count": 50,
   "metadata": {},
   "outputs": [
    {
     "data": {
      "text/plain": [
       "360.0    512\n",
       "180.0     44\n",
       "480.0     15\n",
       "300.0     13\n",
       "84.0       4\n",
       "240.0      4\n",
       "120.0      3\n",
       "36.0       2\n",
       "60.0       2\n",
       "12.0       1\n",
       "Name: Loan_Amount_Term, dtype: int64"
      ]
     },
     "execution_count": 50,
     "metadata": {},
     "output_type": "execute_result"
    }
   ],
   "source": [
    "train['Loan_Amount_Term'].value_counts()"
   ]
  },
  {
   "cell_type": "markdown",
   "metadata": {},
   "source": [
    "It can be seen that in loan amount term variable, the value of 360 is repeating the most. So we will replace the missing values in this variable using the mode of this variable."
   ]
  },
  {
   "cell_type": "code",
   "execution_count": 51,
   "metadata": {},
   "outputs": [],
   "source": [
    "# replace missing value with the mode\n",
    "train['Loan_Amount_Term'].fillna(train['Loan_Amount_Term'].mode()[0], inplace=True)"
   ]
  },
  {
   "cell_type": "markdown",
   "metadata": {},
   "source": [
    "Now we will see the LoanAmount variable. As it is a numerical variable, we can use mean or median to impute the missing values. We will use median to fill the null values as earlier we saw that loan amount have outliers so the mean will not be the proper approach as it is highly affected by the presence of outliers."
   ]
  },
  {
   "cell_type": "code",
   "execution_count": 52,
   "metadata": {},
   "outputs": [],
   "source": [
    "# replace missing values with the median value due to outliers\n",
    "train['LoanAmount'].fillna(train['LoanAmount'].median(), inplace=True)"
   ]
  },
  {
   "cell_type": "code",
   "execution_count": 53,
   "metadata": {},
   "outputs": [
    {
     "data": {
      "text/plain": [
       "Loan_ID              0\n",
       "Gender               0\n",
       "Married              0\n",
       "Dependents           0\n",
       "Education            0\n",
       "Self_Employed        0\n",
       "ApplicantIncome      0\n",
       "CoapplicantIncome    0\n",
       "LoanAmount           0\n",
       "Loan_Amount_Term     0\n",
       "Credit_History       0\n",
       "Property_Area        0\n",
       "Loan_Status          0\n",
       "dtype: int64"
      ]
     },
     "execution_count": 53,
     "metadata": {},
     "output_type": "execute_result"
    }
   ],
   "source": [
    "# check whether all the missing values are filled in the Train dataset\n",
    "train.isnull().sum()"
   ]
  },
  {
   "cell_type": "markdown",
   "metadata": {},
   "source": [
    "As we can see that all the missing values have been filled in the Train dataset. Let’s fill all the missing values in the test dataset too with the same approach. \n",
    "\n",
    "**Note: ** We need to replace the missing values in Test set using the mode/median/mean of the Training set, not from the Test set. Likewise, if you remove values above some threshold in the test case, make sure that the threshold is derived from the training and not test set. Make sure to calculate the mean (or any other metrics) only on the train data to avoid data leakage to your test set."
   ]
  },
  {
   "cell_type": "code",
   "execution_count": 54,
   "metadata": {},
   "outputs": [],
   "source": [
    "# replace missing values in Test set with mode/median from Training set\n",
    "test['Gender'].fillna(train['Gender'].mode()[0], inplace=True)\n",
    "test['Dependents'].fillna(train['Dependents'].mode()[0], inplace=True)\n",
    "test['Self_Employed'].fillna(train['Self_Employed'].mode()[0], inplace=True)\n",
    "test['Credit_History'].fillna(train['Credit_History'].mode()[0], inplace=True)\n",
    "test['Loan_Amount_Term'].fillna(train['Loan_Amount_Term'].mode()[0], inplace=True)\n",
    "test['LoanAmount'].fillna(train['LoanAmount'].median(), inplace=True)"
   ]
  },
  {
   "cell_type": "code",
   "execution_count": 55,
   "metadata": {},
   "outputs": [
    {
     "data": {
      "text/plain": [
       "Loan_ID              0\n",
       "Gender               0\n",
       "Married              0\n",
       "Dependents           0\n",
       "Education            0\n",
       "Self_Employed        0\n",
       "ApplicantIncome      0\n",
       "CoapplicantIncome    0\n",
       "LoanAmount           0\n",
       "Loan_Amount_Term     0\n",
       "Credit_History       0\n",
       "Property_Area        0\n",
       "dtype: int64"
      ]
     },
     "execution_count": 55,
     "metadata": {},
     "output_type": "execute_result"
    }
   ],
   "source": [
    "# check whether all the missing values are filled in the Test dataset\n",
    "test.isnull().sum()"
   ]
  },
  {
   "cell_type": "markdown",
   "metadata": {},
   "source": [
    "As we can see that all the missing values have been filled in the Test dataset.\n"
   ]
  },
  {
   "cell_type": "markdown",
   "metadata": {},
   "source": [
    "\n",
    "### Outlier Treatment \n",
    "\n",
    "As we saw earlier in univariate analysis, LoanAmount contains outliers so we have to treat them as the presence of outliers affects the distribution of the data. Having outliers in the dataset often has a significant effect on the mean and standard deviation and hence affecting the distribution. We must take steps to remove outliers from our data sets.\n",
    "\n",
    "Due to these outliers bulk of the data in the loan amount is at the left and the right tail is longer. This is called right skewness (or positive skewness). One way to remove the skewness is by doing the log transformation. As we take the log transformation, it does not affect the smaller values much, but reduces the larger values. So, we get a distribution similar to normal distribution.\n",
    "\n",
    "Let’s visualize the effect of log transformation. We will do the similar changes to the test file simultaneously."
   ]
  },
  {
   "cell_type": "code",
   "execution_count": 56,
   "metadata": {},
   "outputs": [
    {
     "data": {
      "text/plain": [
       "Text(0.5,1,'Test')"
      ]
     },
     "execution_count": 56,
     "metadata": {},
     "output_type": "execute_result"
    },
    {
     "data": {
      "image/png": "[encoded data removed]",
      "text/plain": [
       "<Figure size 864x288 with 2 Axes>"
      ]
     },
     "metadata": {},
     "output_type": "display_data"
    }
   ],
   "source": [
    "# before log transformation\n",
    "\n",
    "ax1 = plt.subplot(121)\n",
    "train['LoanAmount'].hist(bins=20, figsize=(12,4))\n",
    "ax1.set_title(\"Train\")\n",
    "\n",
    "ax2 = plt.subplot(122)\n",
    "test['LoanAmount'].hist(bins=20)\n",
    "ax2.set_title(\"Test\")"
   ]
  },
  {
   "cell_type": "code",
   "execution_count": 57,
   "metadata": {},
   "outputs": [],
   "source": [
    "# Removing skewness in LoanAmount variable by log transformation\n",
    "train['LoanAmount_log'] = np.log(train['LoanAmount'])\n",
    "test['LoanAmount_log'] = np.log(test['LoanAmount'])"
   ]
  },
  {
   "cell_type": "code",
   "execution_count": 58,
   "metadata": {},
   "outputs": [
    {
     "data": {
      "text/plain": [
       "Text(0.5,1,'Test')"
      ]
     },
     "execution_count": 58,
     "metadata": {},
     "output_type": "execute_result"
    },
    {
     "data": {
      "image/png": "[encoded data removed]",
      "text/plain": [
       "<Figure size 864x288 with 2 Axes>"
      ]
     },
     "metadata": {},
     "output_type": "display_data"
    }
   ],
   "source": [
    "# after log transformation\n",
    "\n",
    "ax1 = plt.subplot(121)\n",
    "train['LoanAmount_log'].hist(bins=20, figsize=(12,4))\n",
    "ax1.set_title(\"Train\")\n",
    "\n",
    "ax2 = plt.subplot(122)\n",
    "test['LoanAmount_log'].hist(bins=20)\n",
    "ax2.set_title(\"Test\")"
   ]
  },
  {
   "cell_type": "markdown",
   "metadata": {},
   "source": [
    "Now the distribution looks much closer to normal and effect of extreme values has been significantly subsided. Let’s build a logistic regression model and make predictions for the test dataset."
   ]
  },
  {
   "cell_type": "markdown",
   "metadata": {},
   "source": [
    "***\n",
    "# <a name=\"model\">Model Development and Evaluation</a>\n",
    "\n",
    "There are four sub-sections in this stage:\n",
    "- [Evaluation Metrics for Classification Problems](#evaluation)\n",
    "- [Model Building : Part I](#model1)\n",
    "- [Feature Engineering](#feature)\n",
    "- [Model Building : Part II](#model2)"
   ]
  },
  {
   "cell_type": "markdown",
   "metadata": {},
   "source": [
    "***\n",
    "## <a name=\"evaluation\">Evaluation Metrics for Classification Problems</a>\n",
    "\n",
    "\n",
    "The process of model building is not complete without evaluation of model’s performance. Suppose we have the predictions from the model, how can we decide whether the predictions are accurate? We can plot the results and compare them with the actual values, i.e. calculate the distance between the predictions and actual values. Lesser this distance more accurate will be the predictions. Since this is a classification problem, we can evaluate our models using any one of the following evaluation metrics:\n",
    "\n",
    "**Accuracy**: Let us understand it using the confusion matrix which is a tabular representation of Actual vs Predicted values. This is how a confusion matrix looks like:\n",
    "\n",
    "\n",
    "<table><tr><td><img height=\"400\" width=\"400\" src=\"confusion_matrix.jpg\"></td></tr></table>\n",
    "\n",
    "    True Positive - Targets which are actually true(Y) and we have predicted them true(Y)\n",
    "    True Negative - Targets which are actually false(N) and we have predicted them false(N)\n",
    "    False Positive - Targets which are actually false(N) but we have predicted them true(T)\n",
    "    False Negative - Targets which are actually true(T) but we have predicted them false(N)\n",
    "\n",
    "Using these values, we can calculate the accuracy of the model. The accuracy is given by:\n",
    "\n",
    "_Accuracy = (TP+TN) / (TP+TN+FP+FN)_\n",
    "\n",
    "**Precision**: It is a measure of correctness achieved in true prediction i.e. of observations labeled as true, how many are actually labeled true.\n",
    "\n",
    "_Precision = TP / (TP + FP)_\n",
    "\n",
    "**Recall (Sensitivity)** - It is a measure of actual observations which are predicted correctly i.e. how many observations of true class are labeled correctly. It is also known as ‘Sensitivity’. E.g. Proportion of patients with a disease who test positive.\n",
    "\n",
    "_Recall = TP / (TP + FN)_\n",
    "\n",
    "**Specificity** - It is a measure of how many observations of false class are labeled correctly. E.g. Proportion of patients without the disease who test negative.\n",
    "\n",
    "_Specificity = TN / (TN + FP)_\n",
    "\n",
    "Specificity and Sensitivity plays a crucial role in deriving ROC curve.\n",
    "\n",
    "**ROC curve**\n",
    "\n",
    "- Receiver Operating Characteristic(ROC) summarizes the model’s performance by evaluating the trade offs between true positive rate (Sensitivity) and false positive rate (1- Specificity).\n",
    "- The area under curve (AUC), referred to as index of accuracy(A) or concordance index, is a perfect performance metric for ROC curve. Higher the area under curve, better the prediction power of the model.\n",
    "- The area of this curve measures the ability of the model to correctly classify true positives and true negatives. We want our model to predict the true classes as true and false classes as false.\n",
    "- So it can be said that we want the true positive rate to be 1. But we are not concerned with the true positive rate only but the false positive rate too. For example in our problem, we are not only concerned about predicting the Y classes as Y but we also want N classes to be predicted as N.\n",
    "- We want to increase the area of the curve which will be maximum for class 2,3,4 and 5 in the above example.\n",
    "- For class 1 when the false positive rate is 0.2, the true positive rate is around 0.6. But for class 2 the true positive rate is 1 at the same false positive rate. So, the AUC for class 2 will be much more as compared to the AUC for class 1. So, the model for class 2 will be better.\n",
    "- The class 2,3,4 and 5 model will predict more accurately as compared to the class 0 and 1 model as the AUC is more for those classes.\n",
    "\n",
    "This is how a ROC curve looks like:\n",
    "<table><tr><td><img height=\"400\" width=\"400\" src=\"roc.jpg\"></td></tr></table>\n",
    "\n",
    "At the competition’s page, it has been mentioned that our submission data would be evaluated based on the accuracy. Hence, we will use accuracy as our evaluation metric.\n",
    "\n",
    "To know more about evaluation metrics, read this article: https://www.analyticsvidhya.com/blog/2016/02/7-important-model-evaluation-error-metrics/"
   ]
  },
  {
   "cell_type": "markdown",
   "metadata": {},
   "source": [
    "***\n",
    "## <a name=\"model1\">Model Building : Part I</a>\n",
    "\n",
    "Let us make our first model to predict the target variable. We will start with Logistic Regression which is used for predicting binary outcome.\n",
    "\n",
    "- Logistic Regression is a classification algorithm. It is used to predict a binary outcome (1 / 0, Yes / No, True / False) given a set of independent variables.\n",
    "- Logistic regression is an estimation of Logit function. Logit function is simply a log of odds in favor of the event.\n",
    "- This function creates a s-shaped curve with the probability estimate, which is very similar to the required step wise function\n",
    "\n",
    "To learn further on logistic regression, refer this article: https://www.analyticsvidhya.com/blog/2015/10/basics-logistic-regression/\n",
    "\n",
    "Lets drop the Loan_ID variable as it do not have any effect on the loan status. We will do the same changes to the test dataset which we did for the training dataset."
   ]
  },
  {
   "cell_type": "code",
   "execution_count": 59,
   "metadata": {},
   "outputs": [],
   "source": [
    "# drop Loan_ID \n",
    "train = train.drop('Loan_ID', axis=1)\n",
    "test = test.drop('Loan_ID', axis=1)"
   ]
  },
  {
   "cell_type": "markdown",
   "metadata": {},
   "source": [
    "We will use scikit-learn (sklearn) for making different models which is an open source library for Python. It is one of the most efficient tool which contains many inbuilt functions that can be used for modeling in Python.\n",
    "\n",
    "To learn further about sklearn, refer here: http://scikit-learn.org/stable/tutorial/index.html\n",
    "\n",
    "Sklearn requires the target variable in a separate dataset. So, we will drop our target variable from the train dataset and save it in another dataset."
   ]
  },
  {
   "cell_type": "code",
   "execution_count": 60,
   "metadata": {},
   "outputs": [],
   "source": [
    "# drop \"Loan_Status\" and assign it to target variable\n",
    "X = train.drop('Loan_Status', 1)\n",
    "y = train.Loan_Status"
   ]
  },
  {
   "cell_type": "markdown",
   "metadata": {},
   "source": [
    "Now we will make dummy variables for the categorical variables. Dummy variable turns categorical variables into a series of 0 and 1, making them lot easier to quantify and compare. Let us understand the process of dummies first:\n",
    "\n",
    "- Consider the “Gender” variable. It has two classes, Male and Female.\n",
    "- As logistic regression takes only the numerical values as input, we have to change male and female into numerical value.\n",
    "- Once we apply dummies to this variable, it will convert the “Gender” variable into two variables(Gender_Male and Gender_Female), one for each class, i.e. Male and Female.\n",
    "- Gender_Male will have a value of 0 if the gender is Female and a value of 1 if the gender is Male.\n",
    "\n",
    "We can use pandas `get_dummies` function to convert categorical variable into dummy/indicator variables, it will only convert \"object\" type and will not affect numerical type."
   ]
  },
  {
   "cell_type": "code",
   "execution_count": 61,
   "metadata": {},
   "outputs": [],
   "source": [
    "# adding dummies to the dataset\n",
    "X = pd.get_dummies(X)\n",
    "train = pd.get_dummies(train)\n",
    "test = pd.get_dummies(test)"
   ]
  },
  {
   "cell_type": "code",
   "execution_count": 62,
   "metadata": {},
   "outputs": [
    {
     "data": {
      "text/plain": [
       "((614, 21), (614, 22), (367, 21))"
      ]
     },
     "execution_count": 62,
     "metadata": {},
     "output_type": "execute_result"
    }
   ],
   "source": [
    "X.shape, train.shape, test.shape"
   ]
  },
  {
   "cell_type": "code",
   "execution_count": 63,
   "metadata": {},
   "outputs": [
    {
     "data": {
      "text/html": [
       "<div>\n",
       "<style scoped>\n",
       "    .dataframe tbody tr th:only-of-type {\n",
       "        vertical-align: middle;\n",
       "    }\n",
       "\n",
       "    .dataframe tbody tr th {\n",
       "        vertical-align: top;\n",
       "    }\n",
       "\n",
       "    .dataframe thead th {\n",
       "        text-align: right;\n",
       "    }\n",
       "</style>\n",
       "<table border=\"1\" class=\"dataframe\">\n",
       "  <thead>\n",
       "    <tr style=\"text-align: right;\">\n",
       "      <th></th>\n",
       "      <th>ApplicantIncome</th>\n",
       "      <th>CoapplicantIncome</th>\n",
       "      <th>LoanAmount</th>\n",
       "      <th>Loan_Amount_Term</th>\n",
       "      <th>Credit_History</th>\n",
       "      <th>LoanAmount_log</th>\n",
       "      <th>Gender_Female</th>\n",
       "      <th>Gender_Male</th>\n",
       "      <th>Married_No</th>\n",
       "      <th>Married_Yes</th>\n",
       "      <th>...</th>\n",
       "      <th>Dependents_0</th>\n",
       "      <th>Dependents_1</th>\n",
       "      <th>Dependents_2</th>\n",
       "      <th>Education_Graduate</th>\n",
       "      <th>Education_Not Graduate</th>\n",
       "      <th>Self_Employed_No</th>\n",
       "      <th>Self_Employed_Yes</th>\n",
       "      <th>Property_Area_Rural</th>\n",
       "      <th>Property_Area_Semiurban</th>\n",
       "      <th>Property_Area_Urban</th>\n",
       "    </tr>\n",
       "  </thead>\n",
       "  <tbody>\n",
       "    <tr>\n",
       "      <th>0</th>\n",
       "      <td>5849</td>\n",
       "      <td>0.0</td>\n",
       "      <td>128.0</td>\n",
       "      <td>360.0</td>\n",
       "      <td>1.0</td>\n",
       "      <td>4.852030</td>\n",
       "      <td>0</td>\n",
       "      <td>1</td>\n",
       "      <td>1</td>\n",
       "      <td>0</td>\n",
       "      <td>...</td>\n",
       "      <td>1</td>\n",
       "      <td>0</td>\n",
       "      <td>0</td>\n",
       "      <td>1</td>\n",
       "      <td>0</td>\n",
       "      <td>1</td>\n",
       "      <td>0</td>\n",
       "      <td>0</td>\n",
       "      <td>0</td>\n",
       "      <td>1</td>\n",
       "    </tr>\n",
       "    <tr>\n",
       "      <th>1</th>\n",
       "      <td>4583</td>\n",
       "      <td>1508.0</td>\n",
       "      <td>128.0</td>\n",
       "      <td>360.0</td>\n",
       "      <td>1.0</td>\n",
       "      <td>4.852030</td>\n",
       "      <td>0</td>\n",
       "      <td>1</td>\n",
       "      <td>0</td>\n",
       "      <td>1</td>\n",
       "      <td>...</td>\n",
       "      <td>0</td>\n",
       "      <td>1</td>\n",
       "      <td>0</td>\n",
       "      <td>1</td>\n",
       "      <td>0</td>\n",
       "      <td>1</td>\n",
       "      <td>0</td>\n",
       "      <td>1</td>\n",
       "      <td>0</td>\n",
       "      <td>0</td>\n",
       "    </tr>\n",
       "    <tr>\n",
       "      <th>2</th>\n",
       "      <td>3000</td>\n",
       "      <td>0.0</td>\n",
       "      <td>66.0</td>\n",
       "      <td>360.0</td>\n",
       "      <td>1.0</td>\n",
       "      <td>4.189655</td>\n",
       "      <td>0</td>\n",
       "      <td>1</td>\n",
       "      <td>0</td>\n",
       "      <td>1</td>\n",
       "      <td>...</td>\n",
       "      <td>1</td>\n",
       "      <td>0</td>\n",
       "      <td>0</td>\n",
       "      <td>1</td>\n",
       "      <td>0</td>\n",
       "      <td>0</td>\n",
       "      <td>1</td>\n",
       "      <td>0</td>\n",
       "      <td>0</td>\n",
       "      <td>1</td>\n",
       "    </tr>\n",
       "    <tr>\n",
       "      <th>3</th>\n",
       "      <td>2583</td>\n",
       "      <td>2358.0</td>\n",
       "      <td>120.0</td>\n",
       "      <td>360.0</td>\n",
       "      <td>1.0</td>\n",
       "      <td>4.787492</td>\n",
       "      <td>0</td>\n",
       "      <td>1</td>\n",
       "      <td>0</td>\n",
       "      <td>1</td>\n",
       "      <td>...</td>\n",
       "      <td>1</td>\n",
       "      <td>0</td>\n",
       "      <td>0</td>\n",
       "      <td>0</td>\n",
       "      <td>1</td>\n",
       "      <td>1</td>\n",
       "      <td>0</td>\n",
       "      <td>0</td>\n",
       "      <td>0</td>\n",
       "      <td>1</td>\n",
       "    </tr>\n",
       "    <tr>\n",
       "      <th>4</th>\n",
       "      <td>6000</td>\n",
       "      <td>0.0</td>\n",
       "      <td>141.0</td>\n",
       "      <td>360.0</td>\n",
       "      <td>1.0</td>\n",
       "      <td>4.948760</td>\n",
       "      <td>0</td>\n",
       "      <td>1</td>\n",
       "      <td>1</td>\n",
       "      <td>0</td>\n",
       "      <td>...</td>\n",
       "      <td>1</td>\n",
       "      <td>0</td>\n",
       "      <td>0</td>\n",
       "      <td>1</td>\n",
       "      <td>0</td>\n",
       "      <td>1</td>\n",
       "      <td>0</td>\n",
       "      <td>0</td>\n",
       "      <td>0</td>\n",
       "      <td>1</td>\n",
       "    </tr>\n",
       "  </tbody>\n",
       "</table>\n",
       "<p>5 rows × 21 columns</p>\n",
       "</div>"
      ],
      "text/plain": [
       "   ApplicantIncome  CoapplicantIncome  LoanAmount  Loan_Amount_Term  \\\n",
       "0             5849                0.0       128.0             360.0   \n",
       "1             4583             1508.0       128.0             360.0   \n",
       "2             3000                0.0        66.0             360.0   \n",
       "3             2583             2358.0       120.0             360.0   \n",
       "4             6000                0.0       141.0             360.0   \n",
       "\n",
       "   Credit_History  LoanAmount_log  Gender_Female  Gender_Male  Married_No  \\\n",
       "0             1.0        4.852030              0            1           1   \n",
       "1             1.0        4.852030              0            1           0   \n",
       "2             1.0        4.189655              0            1           0   \n",
       "3             1.0        4.787492              0            1           0   \n",
       "4             1.0        4.948760              0            1           1   \n",
       "\n",
       "   Married_Yes         ...           Dependents_0  Dependents_1  Dependents_2  \\\n",
       "0            0         ...                      1             0             0   \n",
       "1            1         ...                      0             1             0   \n",
       "2            1         ...                      1             0             0   \n",
       "3            1         ...                      1             0             0   \n",
       "4            0         ...                      1             0             0   \n",
       "\n",
       "   Education_Graduate  Education_Not Graduate  Self_Employed_No  \\\n",
       "0                   1                       0                 1   \n",
       "1                   1                       0                 1   \n",
       "2                   1                       0                 0   \n",
       "3                   0                       1                 1   \n",
       "4                   1                       0                 1   \n",
       "\n",
       "   Self_Employed_Yes  Property_Area_Rural  Property_Area_Semiurban  \\\n",
       "0                  0                    0                        0   \n",
       "1                  0                    1                        0   \n",
       "2                  1                    0                        0   \n",
       "3                  0                    0                        0   \n",
       "4                  0                    0                        0   \n",
       "\n",
       "   Property_Area_Urban  \n",
       "0                    1  \n",
       "1                    0  \n",
       "2                    1  \n",
       "3                    1  \n",
       "4                    1  \n",
       "\n",
       "[5 rows x 21 columns]"
      ]
     },
     "execution_count": 63,
     "metadata": {},
     "output_type": "execute_result"
    }
   ],
   "source": [
    "X.head()"
   ]
  },
  {
   "cell_type": "markdown",
   "metadata": {},
   "source": [
    "Now we will train the model on training dataset and make predictions for the test dataset. But can we validate these predictions? One way of doing this is we can divide our train dataset into two parts: train and validation. We can train the model on this train part and using that make predictions for the validation part. In this way we can validate our predictions as we have the true predictions for the validation part (which we do not have for the test dataset).\n",
    "\n",
    "We will use the train_test_split function from sklearn to divide our train dataset. So, first let us import train_test_split."
   ]
  },
  {
   "cell_type": "code",
   "execution_count": 64,
   "metadata": {},
   "outputs": [],
   "source": [
    "# import library\n",
    "from sklearn.model_selection import train_test_split"
   ]
  },
  {
   "cell_type": "code",
   "execution_count": 65,
   "metadata": {},
   "outputs": [],
   "source": [
    "# split the data into train and cross validation set\n",
    "x_train, x_cv, y_train, y_cv = train_test_split(X, y, test_size=0.3, random_state=0)"
   ]
  },
  {
   "cell_type": "code",
   "execution_count": 66,
   "metadata": {},
   "outputs": [
    {
     "data": {
      "text/plain": [
       "((429, 21), (185, 21), (429,), (185,))"
      ]
     },
     "execution_count": 66,
     "metadata": {},
     "output_type": "execute_result"
    }
   ],
   "source": [
    "# take a look at the dimension of the data\n",
    "x_train.shape, x_cv.shape, y_train.shape, y_cv.shape"
   ]
  },
  {
   "cell_type": "markdown",
   "metadata": {},
   "source": [
    "The dataset has been divided into training and validation part. Let us import LogisticRegression and accuracy_score from sklearn and fit the logistic regression model."
   ]
  },
  {
   "cell_type": "code",
   "execution_count": 67,
   "metadata": {},
   "outputs": [],
   "source": [
    "# import libraries\n",
    "from sklearn.linear_model import LogisticRegression\n",
    "from sklearn.metrics import accuracy_score"
   ]
  },
  {
   "cell_type": "code",
   "execution_count": 68,
   "metadata": {},
   "outputs": [
    {
     "data": {
      "text/plain": [
       "LogisticRegression(C=1.0, class_weight=None, dual=False, fit_intercept=True,\n",
       "          intercept_scaling=1, max_iter=100, multi_class='ovr', n_jobs=1,\n",
       "          penalty='l2', random_state=None, solver='liblinear', tol=0.0001,\n",
       "          verbose=0, warm_start=False)"
      ]
     },
     "execution_count": 68,
     "metadata": {},
     "output_type": "execute_result"
    }
   ],
   "source": [
    "# fit the model\n",
    "model = LogisticRegression()\n",
    "model.fit(x_train, y_train)"
   ]
  },
  {
   "cell_type": "markdown",
   "metadata": {},
   "source": [
    "Here the C=1.0 parameter represents inverse of regularization strength. Regularization is applying a penalty to increasing the magnitude of parameter values in order to reduce overfitting. Smaller values of C specify stronger regularization. To learn about other parameters, refer here: http://scikit-learn.org/stable/modules/generated/sklearn.linear_model.LogisticRegression.html\n",
    "\n",
    "Let’s predict the Loan_Status for validation set and calculate its accuracy."
   ]
  },
  {
   "cell_type": "code",
   "execution_count": 69,
   "metadata": {},
   "outputs": [],
   "source": [
    "# make prediction\n",
    "pred_cv = model.predict(x_cv)"
   ]
  },
  {
   "cell_type": "markdown",
   "metadata": {},
   "source": [
    "Let us calculate how accurate our predictions are by calculating the accuracy."
   ]
  },
  {
   "cell_type": "code",
   "execution_count": 70,
   "metadata": {},
   "outputs": [
    {
     "data": {
      "text/plain": [
       "0.8324324324324325"
      ]
     },
     "execution_count": 70,
     "metadata": {},
     "output_type": "execute_result"
    }
   ],
   "source": [
    "# calculate accuracy score\n",
    "accuracy_score(y_cv, pred_cv)"
   ]
  },
  {
   "cell_type": "markdown",
   "metadata": {},
   "source": [
    "So our predictions are over 83% accurate, i.e. we have identified 83% of the loan status correctly.\n",
    "\n",
    "Let’s evaluate our model with the confusion matrix."
   ]
  },
  {
   "cell_type": "code",
   "execution_count": 88,
   "metadata": {},
   "outputs": [
    {
     "name": "stdout",
     "output_type": "stream",
     "text": [
      "[[ 22  29]\n",
      " [  2 132]]\n"
     ]
    },
    {
     "data": {
      "text/plain": [
       "Text(33,0.5,'True')"
      ]
     },
     "execution_count": 88,
     "metadata": {},
     "output_type": "execute_result"
    },
    {
     "data": {
      "image/png": "[encoded data removed]",
      "text/plain": [
       "<Figure size 432x288 with 2 Axes>"
      ]
     },
     "metadata": {},
     "output_type": "display_data"
    }
   ],
   "source": [
    "# import confusion_matrix\n",
    "from sklearn.metrics import confusion_matrix\n",
    " \n",
    "cm = confusion_matrix(y_cv, pred_cv)\n",
    "print(cm)\n",
    "\n",
    "# f, ax = plt.subplots(figsize=(9, 6))\n",
    "sns.heatmap(cm, annot=True, fmt=\"d\")\n",
    "plt.title('Confusion matrix of the classifier')\n",
    "plt.xlabel('Predicted')\n",
    "plt.ylabel('True')"
   ]
  },
  {
   "cell_type": "markdown",
   "metadata": {},
   "source": [
    "Let's build a text report showing the main classification metrics."
   ]
  },
  {
   "cell_type": "code",
   "execution_count": 92,
   "metadata": {},
   "outputs": [
    {
     "name": "stdout",
     "output_type": "stream",
     "text": [
      "             precision    recall  f1-score   support\n",
      "\n",
      "          0       0.92      0.43      0.59        51\n",
      "          1       0.82      0.99      0.89       134\n",
      "\n",
      "avg / total       0.85      0.83      0.81       185\n",
      "\n"
     ]
    }
   ],
   "source": [
    "# import classification_report\n",
    "from sklearn.metrics import classification_report\n",
    "print(classification_report(y_cv, pred_cv))"
   ]
  },
  {
   "cell_type": "markdown",
   "metadata": {},
   "source": [
    "The performance of our model seems encouraging, with accuracy of 83%, precision of 82% and recall of 99%.\n",
    "\n",
    "Let’s make predictions for the test dataset and submit the result."
   ]
  },
  {
   "cell_type": "code",
   "execution_count": 71,
   "metadata": {},
   "outputs": [],
   "source": [
    "# make prediction on test set\n",
    "pred_test = model.predict(test)"
   ]
  },
  {
   "cell_type": "code",
   "execution_count": 72,
   "metadata": {},
   "outputs": [
    {
     "data": {
      "text/plain": [
       "array([1, 1, 1, 1, 1, 1, 1, 0, 1, 1, 1, 1, 1, 0, 1, 1, 1, 1, 1, 1, 1, 1,\n",
       "       1, 1, 1, 0, 1, 1, 1, 1, 1, 1, 1, 1, 1, 0, 1, 1, 1, 1, 1, 1, 1, 1,\n",
       "       1, 1, 1, 1, 1, 1], dtype=int64)"
      ]
     },
     "execution_count": 72,
     "metadata": {},
     "output_type": "execute_result"
    }
   ],
   "source": [
    "# take a look at the prediction\n",
    "pred_test[:50]"
   ]
  },
  {
   "cell_type": "markdown",
   "metadata": {},
   "source": [
    "Lets import the submission file which we have to submit on the solution checker."
   ]
  },
  {
   "cell_type": "code",
   "execution_count": 73,
   "metadata": {},
   "outputs": [],
   "source": [
    "submission = pd.read_csv(\"Sample_Submission_ZAuTl8O_FK3zQHh.csv\")"
   ]
  },
  {
   "cell_type": "markdown",
   "metadata": {},
   "source": [
    "We only need the Loan_ID and the corresponding Loan_Status for the final submission. we will fill these columns with the Loan_ID of test dataset and the predictions that we made, i.e., pred_test respectively."
   ]
  },
  {
   "cell_type": "code",
   "execution_count": 74,
   "metadata": {},
   "outputs": [],
   "source": [
    "# fill the Loan_ID and Loan_Status\n",
    "submission['Loan_Status'] = pred_test\n",
    "submission['Loan_ID'] = test_original['Loan_ID']"
   ]
  },
  {
   "cell_type": "markdown",
   "metadata": {},
   "source": [
    "Remember we need predictions in Y and N. So let’s convert 1 and 0 to Y and N."
   ]
  },
  {
   "cell_type": "code",
   "execution_count": 75,
   "metadata": {},
   "outputs": [],
   "source": [
    "# replace with \"N\" and \"Y\"\n",
    "submission['Loan_Status'].replace(0, 'N', inplace=True)\n",
    "submission['Loan_Status'].replace(1, 'Y', inplace=True)"
   ]
  },
  {
   "cell_type": "code",
   "execution_count": 76,
   "metadata": {},
   "outputs": [
    {
     "data": {
      "text/html": [
       "<div>\n",
       "<style scoped>\n",
       "    .dataframe tbody tr th:only-of-type {\n",
       "        vertical-align: middle;\n",
       "    }\n",
       "\n",
       "    .dataframe tbody tr th {\n",
       "        vertical-align: top;\n",
       "    }\n",
       "\n",
       "    .dataframe thead th {\n",
       "        text-align: right;\n",
       "    }\n",
       "</style>\n",
       "<table border=\"1\" class=\"dataframe\">\n",
       "  <thead>\n",
       "    <tr style=\"text-align: right;\">\n",
       "      <th></th>\n",
       "      <th>Loan_ID</th>\n",
       "      <th>Loan_Status</th>\n",
       "    </tr>\n",
       "  </thead>\n",
       "  <tbody>\n",
       "    <tr>\n",
       "      <th>0</th>\n",
       "      <td>LP001015</td>\n",
       "      <td>Y</td>\n",
       "    </tr>\n",
       "    <tr>\n",
       "      <th>1</th>\n",
       "      <td>LP001022</td>\n",
       "      <td>Y</td>\n",
       "    </tr>\n",
       "    <tr>\n",
       "      <th>2</th>\n",
       "      <td>LP001031</td>\n",
       "      <td>Y</td>\n",
       "    </tr>\n",
       "    <tr>\n",
       "      <th>3</th>\n",
       "      <td>LP001035</td>\n",
       "      <td>Y</td>\n",
       "    </tr>\n",
       "    <tr>\n",
       "      <th>4</th>\n",
       "      <td>LP001051</td>\n",
       "      <td>Y</td>\n",
       "    </tr>\n",
       "  </tbody>\n",
       "</table>\n",
       "</div>"
      ],
      "text/plain": [
       "    Loan_ID Loan_Status\n",
       "0  LP001015           Y\n",
       "1  LP001022           Y\n",
       "2  LP001031           Y\n",
       "3  LP001035           Y\n",
       "4  LP001051           Y"
      ]
     },
     "execution_count": 76,
     "metadata": {},
     "output_type": "execute_result"
    }
   ],
   "source": [
    "# take a look at the submission result\n",
    "submission.head()"
   ]
  },
  {
   "cell_type": "markdown",
   "metadata": {},
   "source": [
    "Finally we will convert the submission to .csv format and make submission to check the accuracy on the leaderboard."
   ]
  },
  {
   "cell_type": "code",
   "execution_count": 77,
   "metadata": {},
   "outputs": [],
   "source": [
    "# convert to CSV file, without row index\n",
    "submission.to_csv('logistic.csv', index=False)"
   ]
  },
  {
   "cell_type": "markdown",
   "metadata": {},
   "source": [
    "From this submission we got an accuracy of 0.7847 on the leaderboard.\n",
    "\n",
    "Instead of creating validation set, we can also make use of cross validation to validate our predictions. "
   ]
  },
  {
   "cell_type": "markdown",
   "metadata": {},
   "source": [
    "## Logistic Regression using stratified k-folds cross validation\n",
    "\n",
    "To check how robust our model is to unseen data, we can use Validation. It is a technique which involves reserving a particular sample of a dataset on which you do not train the model. Later, you test your model on this sample before finalizing it. Some of the common methods for validation are listed below:\n",
    "\n",
    "- The validation set approach\n",
    "- k-fold cross validation\n",
    "- Leave one out cross validation (LOOCV)\n",
    "- Stratified k-fold cross validation\n",
    "\n",
    "If you wish to know more about validation techniques, then please refer this article: https://www.analyticsvidhya.com/blog/2018/05/improve-model-performance-cross-validation-in-python-r/\n",
    "\n",
    "In this section we will learn about stratified k-fold cross validation. Let us understand how it works:\n",
    "\n",
    "- Stratification is the process of rearranging the data so as to ensure that each fold is a good representative of the whole.\n",
    "- For example, in a binary classification problem where each class comprises of 50% of the data, it is best to arrange the data such that in every fold, each class comprises of about half the instances.\n",
    "- It is generally a better approach when dealing with both bias and variance.\n",
    "- A randomly selected fold might not adequately represent the minor class, particularly in cases where there is a huge class imbalance.\n",
    "\n",
    "If K=N, then it is called Leave one out cross validation, where N is the number of observations.\n",
    "\n",
    "Below is the visualization of a stratified k-fold validation when k=5.\n",
    "<table><tr><td><img height=\"400\" width=\"400\" src=\"kfold.jpg\"></td></tr></table>"
   ]
  },
  {
   "cell_type": "code",
   "execution_count": 78,
   "metadata": {},
   "outputs": [],
   "source": [
    "# import StratifiedKFold from sklearn and fit the model\n",
    "from sklearn.model_selection import StratifiedKFold"
   ]
  },
  {
   "cell_type": "markdown",
   "metadata": {},
   "source": [
    "Now let’s make a cross validation logistic model with stratified 5 folds and make predictions for test dataset. The folds are made by preserving the percentage of samples for each class. In stratified k-fold, each fold contains roughly the same proportions of the different types of class labels.\n",
    "\n",
    "**Note: ** Previously, we use train_test_split to split the data, in this example we will use StratifiedKFold to split the data, the final accuracy score might be slightly differently"
   ]
  },
  {
   "cell_type": "code",
   "execution_count": 79,
   "metadata": {},
   "outputs": [
    {
     "name": "stdout",
     "output_type": "stream",
     "text": [
      "\n",
      "1 of kfold 5\n",
      "accuracy_score 0.7983870967741935\n",
      "\n",
      "2 of kfold 5\n",
      "accuracy_score 0.8306451612903226\n",
      "\n",
      "3 of kfold 5\n",
      "accuracy_score 0.8114754098360656\n",
      "\n",
      "4 of kfold 5\n",
      "accuracy_score 0.7950819672131147\n",
      "\n",
      "5 of kfold 5\n",
      "accuracy_score 0.8278688524590164\n",
      "\n",
      "Mean validation accuracy:  0.8126916975145425\n"
     ]
    }
   ],
   "source": [
    "# stratified 5 folds, shuffle each stratification of the data before splitting into batches\n",
    "\n",
    "mean_accuracy = []\n",
    "i = 1\n",
    "kf = StratifiedKFold(n_splits=5, random_state=1, shuffle=True)\n",
    "\n",
    "for train_index, test_index in kf.split(X, y):\n",
    "    print('\\n{} of kfold {}'.format(i, kf.n_splits))\n",
    "    xtr, xvl = X.loc[train_index], X.loc[test_index]\n",
    "    ytr, yvl = y[train_index], y[test_index]\n",
    "    \n",
    "    model = LogisticRegression(random_state=1)\n",
    "    model.fit(xtr, ytr)\n",
    "    pred_test = model.predict(xvl)\n",
    "    score = accuracy_score(yvl, pred_test)\n",
    "    mean_accuracy.append(score)\n",
    "    print('accuracy_score', score)\n",
    "    i+=1\n",
    "    \n",
    "print(\"\\nMean validation accuracy: \", sum(mean_accuracy)/len(mean_accuracy))\n",
    "\n",
    "\n",
    "# make prediction on test set\n",
    "pred_test = model.predict(test)\n",
    "\n",
    "\n",
    "# calculate probability estimates of loan approval\n",
    "# column 0 is the probability for class 0 and column 1 is the probability for class 1\n",
    "# probability of loan default = 1 - model.predict_proba(test)[:,1]\n",
    "pred = model.predict_proba(xvl)[:,1]"
   ]
  },
  {
   "cell_type": "code",
   "execution_count": 80,
   "metadata": {},
   "outputs": [
    {
     "data": {
      "text/plain": [
       "\"\\ni = 1\\nkf = StratifiedKFold(n_splits=5, random_state=1, shuffle=True)\\n\\nfor train_index, test_index in kf.split(X, y):\\n    print('\\n{} of kfold {}'.format(i, kf.n_splits))\\n    X_train, X_test = X.loc[train_index], X.loc[test_index]\\n    y_train, y_test = y[train_index], y[test_index]\\n  \\n    model = LogisticRegression(random_state=1)\\n    model.fit(X_train, y_train)\\n    pred_test = model.predict(X_test)\\n    score = accuracy_score(y_test, pred_test)\\n    print('accuracy_score', score)\\n    i+=1\\n\""
      ]
     },
     "execution_count": 80,
     "metadata": {},
     "output_type": "execute_result"
    }
   ],
   "source": [
    "\"\"\"\n",
    "i = 1\n",
    "kf = StratifiedKFold(n_splits=5, random_state=1, shuffle=True)\n",
    "\n",
    "for train_index, test_index in kf.split(X, y):\n",
    "    print('\\n{} of kfold {}'.format(i, kf.n_splits))\n",
    "    X_train, X_test = X.loc[train_index], X.loc[test_index]\n",
    "    y_train, y_test = y[train_index], y[test_index]\n",
    "  \n",
    "    model = LogisticRegression(random_state=1)\n",
    "    model.fit(X_train, y_train)\n",
    "    pred_test = model.predict(X_test)\n",
    "    score = accuracy_score(y_test, pred_test)\n",
    "    print('accuracy_score', score)\n",
    "    i+=1\n",
    "\"\"\""
   ]
  },
  {
   "cell_type": "markdown",
   "metadata": {},
   "source": [
    "The mean validation accuracy for this model turns out to be 0.81. Let us visualize the ROC curve."
   ]
  },
  {
   "cell_type": "code",
   "execution_count": 81,
   "metadata": {},
   "outputs": [
    {
     "data": {
      "image/png": "[encoded data removed]",
      "text/plain": [
       "<Figure size 864x576 with 1 Axes>"
      ]
     },
     "metadata": {},
     "output_type": "display_data"
    }
   ],
   "source": [
    "# visualize ROC curve\n",
    "from sklearn import metrics\n",
    "fpr, tpr, _ = metrics.roc_curve(yvl,  pred)\n",
    "auc = metrics.roc_auc_score(yvl, pred)\n",
    "plt.figure(figsize=(12,8))\n",
    "plt.plot(fpr,tpr,label=\"validation, auc=\"+str(auc))\n",
    "plt.xlabel('False Positive Rate')\n",
    "plt.ylabel('True Positive Rate')\n",
    "plt.legend(loc=4)\n",
    "plt.show()"
   ]
  },
  {
   "cell_type": "markdown",
   "metadata": {},
   "source": [
    "We got an AUC (\"Area Under Curve\") value of 0.77."
   ]
  },
  {
   "cell_type": "code",
   "execution_count": 82,
   "metadata": {},
   "outputs": [],
   "source": [
    "submission['Loan_Status'] = pred_test\n",
    "submission['Loan_ID'] = test_original['Loan_ID']"
   ]
  },
  {
   "cell_type": "markdown",
   "metadata": {},
   "source": [
    "Remember we need predictions in Y and N. So let’s convert 1 and 0 to Y and N."
   ]
  },
  {
   "cell_type": "code",
   "execution_count": 83,
   "metadata": {},
   "outputs": [],
   "source": [
    "submission['Loan_Status'].replace(0, 'N', inplace=True)\n",
    "submission['Loan_Status'].replace(1, 'Y', inplace=True)"
   ]
  },
  {
   "cell_type": "markdown",
   "metadata": {},
   "source": [
    "Lets convert the submission to .csv format and make submission to check the accuracy on the leaderboard."
   ]
  },
  {
   "cell_type": "code",
   "execution_count": 84,
   "metadata": {},
   "outputs": [],
   "source": [
    "# convert to CSV file, without row index\n",
    "submission.to_csv('logistic.csv', index=False)"
   ]
  },
  {
   "cell_type": "markdown",
   "metadata": {},
   "source": [
    "From this submission we got an accuracy of 0.7778 on the leaderboard. Now we will try to improve this accuracy using different approaches."
   ]
  },
  {
   "cell_type": "markdown",
   "metadata": {},
   "source": [
    "***\n",
    "## <a name=\"feature\">Feature Engineering</a>\n",
    "\n",
    "Based on the domain knowledge, we can come up with new features that might affect the target variable. We will create the following three new features:\n",
    "\n",
    "- **Total Income** - As discussed during bivariate analysis we will combine the Applicant Income and Coapplicant Income. If the total income is high, chances of loan approval might also be high.\n",
    "- **Equated Monthly Installment** - EMI is the monthly amount to be paid by the applicant to repay the loan. Idea behind making this variable is that people who have high EMI’s might find it difficult to pay back the loan. We can calculate the EMI by taking the ratio of loan amount with respect to loan amount term.\n",
    "- **Balance Income** - This is the income left after the EMI has been paid. Idea behind creating this variable is that if this value is high, the chances are high that a person will repay the loan and hence increasing the chances of loan approval.\n"
   ]
  },
  {
   "cell_type": "code",
   "execution_count": 85,
   "metadata": {},
   "outputs": [],
   "source": [
    "# combine Applicant Income and Coapplicant Income into a new variable\n",
    "train['Total_Income'] = train['ApplicantIncome'] + train['CoapplicantIncome']\n",
    "test['Total_Income'] = test['ApplicantIncome'] + test['CoapplicantIncome']"
   ]
  },
  {
   "cell_type": "code",
   "execution_count": 86,
   "metadata": {},
   "outputs": [
    {
     "data": {
      "text/plain": [
       "Text(0.5,1,'Test')"
      ]
     },
     "execution_count": 86,
     "metadata": {},
     "output_type": "execute_result"
    },
    {
     "data": {
      "image/png": "[encoded data removed]",
      "text/plain": [
       "<Figure size 1008x288 with 2 Axes>"
      ]
     },
     "metadata": {},
     "output_type": "display_data"
    }
   ],
   "source": [
    "# check the distribution of Total Income\n",
    "# before log transformation\n",
    "\n",
    "fig = plt.figure(figsize=(14, 4))\n",
    "ax1 = plt.subplot(121)\n",
    "sns.distplot(train['Total_Income'])\n",
    " \n",
    "ax1.set_title(\"Train\")\n",
    "\n",
    "ax1 = plt.subplot(122)\n",
    "sns.distplot(test['Total_Income'])\n",
    "ax1.set_title(\"Test\")"
   ]
  },
  {
   "cell_type": "markdown",
   "metadata": {},
   "source": [
    "We can see it is shifted towards left, i.e., the distribution is right skewed. So, let’s take the log transformation to make the distribution normal."
   ]
  },
  {
   "cell_type": "code",
   "execution_count": 87,
   "metadata": {},
   "outputs": [],
   "source": [
    "# log transformation\n",
    "train['Total_Income_log'] = np.log(train['Total_Income'])\n",
    "test['Total_Income_log'] = np.log(test['Total_Income'])"
   ]
  },
  {
   "cell_type": "code",
   "execution_count": 88,
   "metadata": {},
   "outputs": [
    {
     "data": {
      "text/plain": [
       "Text(0.5,1,'Test')"
      ]
     },
     "execution_count": 88,
     "metadata": {},
     "output_type": "execute_result"
    },
    {
     "data": {
      "image/png": "[encoded data removed]",
      "text/plain": [
       "<Figure size 1008x288 with 2 Axes>"
      ]
     },
     "metadata": {},
     "output_type": "display_data"
    }
   ],
   "source": [
    "# after log transformation\n",
    "fig = plt.figure(figsize=(14, 4))\n",
    "ax1 = plt.subplot(121)\n",
    "sns.distplot(train['Total_Income_log'])\n",
    "ax1.set_title(\"Train\")\n",
    "\n",
    "ax1 = plt.subplot(122)\n",
    "sns.distplot(test['Total_Income_log'])\n",
    "ax1.set_title(\"Test\")"
   ]
  },
  {
   "cell_type": "markdown",
   "metadata": {},
   "source": [
    "Now the distribution looks much closer to normal and effect of extreme values has been significantly subsided. Let’s create the EMI feature now. We can calculate the EMI by taking the ratio of loan amount with respect to loan amount term. It is just an approximation of actual EMI."
   ]
  },
  {
   "cell_type": "code",
   "execution_count": 89,
   "metadata": {},
   "outputs": [],
   "source": [
    "# create EMI feature\n",
    "train['EMI'] = train['LoanAmount'] / train['Loan_Amount_Term']\n",
    "test['EMI'] = test['LoanAmount'] / test['Loan_Amount_Term']"
   ]
  },
  {
   "cell_type": "markdown",
   "metadata": {},
   "source": [
    "Let’s check the distribution of EMI variable. EMI is a continuous numerical variable."
   ]
  },
  {
   "cell_type": "code",
   "execution_count": 90,
   "metadata": {},
   "outputs": [
    {
     "data": {
      "text/plain": [
       "Text(0.5,1,'Test')"
      ]
     },
     "execution_count": 90,
     "metadata": {},
     "output_type": "execute_result"
    },
    {
     "data": {
      "image/png": "[encoded data removed]",
      "text/plain": [
       "<Figure size 1008x288 with 2 Axes>"
      ]
     },
     "metadata": {},
     "output_type": "display_data"
    }
   ],
   "source": [
    "# check the distribution of EMI\n",
    "\n",
    "fig = plt.figure(figsize=(14, 4))\n",
    "ax1 = plt.subplot(121)\n",
    "sns.distplot(train['EMI'])\n",
    "ax1.set_title(\"Train\")\n",
    "\n",
    "ax1 = plt.subplot(122)\n",
    "sns.distplot(test['EMI'])\n",
    "ax1.set_title(\"Test\")"
   ]
  },
  {
   "cell_type": "markdown",
   "metadata": {},
   "source": [
    "Let us create Balance Income feature now and check its distribution. This is the income left after the EMI has been paid."
   ]
  },
  {
   "cell_type": "code",
   "execution_count": 91,
   "metadata": {},
   "outputs": [],
   "source": [
    "# create new \"Balance Income\" variable\n",
    "train['Balance Income'] = train['Total_Income'] - (train['EMI']*1000) # Multiply with 1000 to make the units equal \n",
    "test['Balance Income'] = test['Total_Income'] - (test['EMI']*1000)"
   ]
  },
  {
   "cell_type": "code",
   "execution_count": 92,
   "metadata": {},
   "outputs": [
    {
     "data": {
      "text/plain": [
       "Text(0.5,1,'Test')"
      ]
     },
     "execution_count": 92,
     "metadata": {},
     "output_type": "execute_result"
    },
    {
     "data": {
      "image/png": "[encoded data removed]",
      "text/plain": [
       "<Figure size 1008x288 with 2 Axes>"
      ]
     },
     "metadata": {},
     "output_type": "display_data"
    }
   ],
   "source": [
    "# check the distribution of EMI\n",
    "# before log transformation\n",
    "\n",
    "fig = plt.figure(figsize=(14, 4))\n",
    "ax1 = plt.subplot(121)\n",
    "sns.distplot(train['Balance Income'])\n",
    "ax1.set_title(\"Train\")\n",
    "\n",
    "ax1 = plt.subplot(122)\n",
    "sns.distplot(test['Balance Income'])\n",
    "ax1.set_title(\"Test\")"
   ]
  },
  {
   "cell_type": "markdown",
   "metadata": {},
   "source": [
    "Let us now drop the variables which we used to create these new features. Reason for doing this is, the correlation between those old features and these new features will be very high and logistic regression assumes that the variables are not highly correlated. We also wants to remove the noise from the dataset, so removing correlated features will help in reducing the noise too. We will drop \"ApplicantIncome\", \"CoapplicantIncome\", \"LoanAmount\", \"Loan_Amount_Term\" as they are already represented by \"Total Income\", \"EMI\" and \"Balance Income\"."
   ]
  },
  {
   "cell_type": "code",
   "execution_count": 93,
   "metadata": {},
   "outputs": [
    {
     "data": {
      "text/html": [
       "<div>\n",
       "<style scoped>\n",
       "    .dataframe tbody tr th:only-of-type {\n",
       "        vertical-align: middle;\n",
       "    }\n",
       "\n",
       "    .dataframe tbody tr th {\n",
       "        vertical-align: top;\n",
       "    }\n",
       "\n",
       "    .dataframe thead th {\n",
       "        text-align: right;\n",
       "    }\n",
       "</style>\n",
       "<table border=\"1\" class=\"dataframe\">\n",
       "  <thead>\n",
       "    <tr style=\"text-align: right;\">\n",
       "      <th></th>\n",
       "      <th>ApplicantIncome</th>\n",
       "      <th>CoapplicantIncome</th>\n",
       "      <th>LoanAmount</th>\n",
       "      <th>Loan_Amount_Term</th>\n",
       "      <th>Credit_History</th>\n",
       "      <th>Loan_Status</th>\n",
       "      <th>LoanAmount_log</th>\n",
       "      <th>Gender_Female</th>\n",
       "      <th>Gender_Male</th>\n",
       "      <th>Married_No</th>\n",
       "      <th>...</th>\n",
       "      <th>Education_Not Graduate</th>\n",
       "      <th>Self_Employed_No</th>\n",
       "      <th>Self_Employed_Yes</th>\n",
       "      <th>Property_Area_Rural</th>\n",
       "      <th>Property_Area_Semiurban</th>\n",
       "      <th>Property_Area_Urban</th>\n",
       "      <th>Total_Income</th>\n",
       "      <th>Total_Income_log</th>\n",
       "      <th>EMI</th>\n",
       "      <th>Balance Income</th>\n",
       "    </tr>\n",
       "  </thead>\n",
       "  <tbody>\n",
       "    <tr>\n",
       "      <th>0</th>\n",
       "      <td>5849</td>\n",
       "      <td>0.0</td>\n",
       "      <td>128.0</td>\n",
       "      <td>360.0</td>\n",
       "      <td>1.0</td>\n",
       "      <td>1</td>\n",
       "      <td>4.852030</td>\n",
       "      <td>0</td>\n",
       "      <td>1</td>\n",
       "      <td>1</td>\n",
       "      <td>...</td>\n",
       "      <td>0</td>\n",
       "      <td>1</td>\n",
       "      <td>0</td>\n",
       "      <td>0</td>\n",
       "      <td>0</td>\n",
       "      <td>1</td>\n",
       "      <td>5849.0</td>\n",
       "      <td>8.674026</td>\n",
       "      <td>0.355556</td>\n",
       "      <td>5493.444444</td>\n",
       "    </tr>\n",
       "    <tr>\n",
       "      <th>1</th>\n",
       "      <td>4583</td>\n",
       "      <td>1508.0</td>\n",
       "      <td>128.0</td>\n",
       "      <td>360.0</td>\n",
       "      <td>1.0</td>\n",
       "      <td>0</td>\n",
       "      <td>4.852030</td>\n",
       "      <td>0</td>\n",
       "      <td>1</td>\n",
       "      <td>0</td>\n",
       "      <td>...</td>\n",
       "      <td>0</td>\n",
       "      <td>1</td>\n",
       "      <td>0</td>\n",
       "      <td>1</td>\n",
       "      <td>0</td>\n",
       "      <td>0</td>\n",
       "      <td>6091.0</td>\n",
       "      <td>8.714568</td>\n",
       "      <td>0.355556</td>\n",
       "      <td>5735.444444</td>\n",
       "    </tr>\n",
       "    <tr>\n",
       "      <th>2</th>\n",
       "      <td>3000</td>\n",
       "      <td>0.0</td>\n",
       "      <td>66.0</td>\n",
       "      <td>360.0</td>\n",
       "      <td>1.0</td>\n",
       "      <td>1</td>\n",
       "      <td>4.189655</td>\n",
       "      <td>0</td>\n",
       "      <td>1</td>\n",
       "      <td>0</td>\n",
       "      <td>...</td>\n",
       "      <td>0</td>\n",
       "      <td>0</td>\n",
       "      <td>1</td>\n",
       "      <td>0</td>\n",
       "      <td>0</td>\n",
       "      <td>1</td>\n",
       "      <td>3000.0</td>\n",
       "      <td>8.006368</td>\n",
       "      <td>0.183333</td>\n",
       "      <td>2816.666667</td>\n",
       "    </tr>\n",
       "    <tr>\n",
       "      <th>3</th>\n",
       "      <td>2583</td>\n",
       "      <td>2358.0</td>\n",
       "      <td>120.0</td>\n",
       "      <td>360.0</td>\n",
       "      <td>1.0</td>\n",
       "      <td>1</td>\n",
       "      <td>4.787492</td>\n",
       "      <td>0</td>\n",
       "      <td>1</td>\n",
       "      <td>0</td>\n",
       "      <td>...</td>\n",
       "      <td>1</td>\n",
       "      <td>1</td>\n",
       "      <td>0</td>\n",
       "      <td>0</td>\n",
       "      <td>0</td>\n",
       "      <td>1</td>\n",
       "      <td>4941.0</td>\n",
       "      <td>8.505323</td>\n",
       "      <td>0.333333</td>\n",
       "      <td>4607.666667</td>\n",
       "    </tr>\n",
       "    <tr>\n",
       "      <th>4</th>\n",
       "      <td>6000</td>\n",
       "      <td>0.0</td>\n",
       "      <td>141.0</td>\n",
       "      <td>360.0</td>\n",
       "      <td>1.0</td>\n",
       "      <td>1</td>\n",
       "      <td>4.948760</td>\n",
       "      <td>0</td>\n",
       "      <td>1</td>\n",
       "      <td>1</td>\n",
       "      <td>...</td>\n",
       "      <td>0</td>\n",
       "      <td>1</td>\n",
       "      <td>0</td>\n",
       "      <td>0</td>\n",
       "      <td>0</td>\n",
       "      <td>1</td>\n",
       "      <td>6000.0</td>\n",
       "      <td>8.699515</td>\n",
       "      <td>0.391667</td>\n",
       "      <td>5608.333333</td>\n",
       "    </tr>\n",
       "  </tbody>\n",
       "</table>\n",
       "<p>5 rows × 26 columns</p>\n",
       "</div>"
      ],
      "text/plain": [
       "   ApplicantIncome  CoapplicantIncome  LoanAmount  Loan_Amount_Term  \\\n",
       "0             5849                0.0       128.0             360.0   \n",
       "1             4583             1508.0       128.0             360.0   \n",
       "2             3000                0.0        66.0             360.0   \n",
       "3             2583             2358.0       120.0             360.0   \n",
       "4             6000                0.0       141.0             360.0   \n",
       "\n",
       "   Credit_History  Loan_Status  LoanAmount_log  Gender_Female  Gender_Male  \\\n",
       "0             1.0            1        4.852030              0            1   \n",
       "1             1.0            0        4.852030              0            1   \n",
       "2             1.0            1        4.189655              0            1   \n",
       "3             1.0            1        4.787492              0            1   \n",
       "4             1.0            1        4.948760              0            1   \n",
       "\n",
       "   Married_No       ...        Education_Not Graduate  Self_Employed_No  \\\n",
       "0           1       ...                             0                 1   \n",
       "1           0       ...                             0                 1   \n",
       "2           0       ...                             0                 0   \n",
       "3           0       ...                             1                 1   \n",
       "4           1       ...                             0                 1   \n",
       "\n",
       "   Self_Employed_Yes  Property_Area_Rural  Property_Area_Semiurban  \\\n",
       "0                  0                    0                        0   \n",
       "1                  0                    1                        0   \n",
       "2                  1                    0                        0   \n",
       "3                  0                    0                        0   \n",
       "4                  0                    0                        0   \n",
       "\n",
       "   Property_Area_Urban  Total_Income  Total_Income_log       EMI  \\\n",
       "0                    1        5849.0          8.674026  0.355556   \n",
       "1                    0        6091.0          8.714568  0.355556   \n",
       "2                    1        3000.0          8.006368  0.183333   \n",
       "3                    1        4941.0          8.505323  0.333333   \n",
       "4                    1        6000.0          8.699515  0.391667   \n",
       "\n",
       "   Balance Income  \n",
       "0     5493.444444  \n",
       "1     5735.444444  \n",
       "2     2816.666667  \n",
       "3     4607.666667  \n",
       "4     5608.333333  \n",
       "\n",
       "[5 rows x 26 columns]"
      ]
     },
     "execution_count": 93,
     "metadata": {},
     "output_type": "execute_result"
    }
   ],
   "source": [
    "# before dropping variables\n",
    "train.head()"
   ]
  },
  {
   "cell_type": "code",
   "execution_count": 94,
   "metadata": {},
   "outputs": [],
   "source": [
    "# drop the variables\n",
    "train = train.drop(['ApplicantIncome', 'CoapplicantIncome', 'LoanAmount', 'Loan_Amount_Term'], axis=1)\n",
    "test = test.drop(['ApplicantIncome', 'CoapplicantIncome', 'LoanAmount', 'Loan_Amount_Term'], axis=1)"
   ]
  },
  {
   "cell_type": "code",
   "execution_count": 95,
   "metadata": {},
   "outputs": [
    {
     "data": {
      "text/html": [
       "<div>\n",
       "<style scoped>\n",
       "    .dataframe tbody tr th:only-of-type {\n",
       "        vertical-align: middle;\n",
       "    }\n",
       "\n",
       "    .dataframe tbody tr th {\n",
       "        vertical-align: top;\n",
       "    }\n",
       "\n",
       "    .dataframe thead th {\n",
       "        text-align: right;\n",
       "    }\n",
       "</style>\n",
       "<table border=\"1\" class=\"dataframe\">\n",
       "  <thead>\n",
       "    <tr style=\"text-align: right;\">\n",
       "      <th></th>\n",
       "      <th>Credit_History</th>\n",
       "      <th>Loan_Status</th>\n",
       "      <th>LoanAmount_log</th>\n",
       "      <th>Gender_Female</th>\n",
       "      <th>Gender_Male</th>\n",
       "      <th>Married_No</th>\n",
       "      <th>Married_Yes</th>\n",
       "      <th>Dependents_3</th>\n",
       "      <th>Dependents_0</th>\n",
       "      <th>Dependents_1</th>\n",
       "      <th>...</th>\n",
       "      <th>Education_Not Graduate</th>\n",
       "      <th>Self_Employed_No</th>\n",
       "      <th>Self_Employed_Yes</th>\n",
       "      <th>Property_Area_Rural</th>\n",
       "      <th>Property_Area_Semiurban</th>\n",
       "      <th>Property_Area_Urban</th>\n",
       "      <th>Total_Income</th>\n",
       "      <th>Total_Income_log</th>\n",
       "      <th>EMI</th>\n",
       "      <th>Balance Income</th>\n",
       "    </tr>\n",
       "  </thead>\n",
       "  <tbody>\n",
       "    <tr>\n",
       "      <th>0</th>\n",
       "      <td>1.0</td>\n",
       "      <td>1</td>\n",
       "      <td>4.852030</td>\n",
       "      <td>0</td>\n",
       "      <td>1</td>\n",
       "      <td>1</td>\n",
       "      <td>0</td>\n",
       "      <td>0</td>\n",
       "      <td>1</td>\n",
       "      <td>0</td>\n",
       "      <td>...</td>\n",
       "      <td>0</td>\n",
       "      <td>1</td>\n",
       "      <td>0</td>\n",
       "      <td>0</td>\n",
       "      <td>0</td>\n",
       "      <td>1</td>\n",
       "      <td>5849.0</td>\n",
       "      <td>8.674026</td>\n",
       "      <td>0.355556</td>\n",
       "      <td>5493.444444</td>\n",
       "    </tr>\n",
       "    <tr>\n",
       "      <th>1</th>\n",
       "      <td>1.0</td>\n",
       "      <td>0</td>\n",
       "      <td>4.852030</td>\n",
       "      <td>0</td>\n",
       "      <td>1</td>\n",
       "      <td>0</td>\n",
       "      <td>1</td>\n",
       "      <td>0</td>\n",
       "      <td>0</td>\n",
       "      <td>1</td>\n",
       "      <td>...</td>\n",
       "      <td>0</td>\n",
       "      <td>1</td>\n",
       "      <td>0</td>\n",
       "      <td>1</td>\n",
       "      <td>0</td>\n",
       "      <td>0</td>\n",
       "      <td>6091.0</td>\n",
       "      <td>8.714568</td>\n",
       "      <td>0.355556</td>\n",
       "      <td>5735.444444</td>\n",
       "    </tr>\n",
       "    <tr>\n",
       "      <th>2</th>\n",
       "      <td>1.0</td>\n",
       "      <td>1</td>\n",
       "      <td>4.189655</td>\n",
       "      <td>0</td>\n",
       "      <td>1</td>\n",
       "      <td>0</td>\n",
       "      <td>1</td>\n",
       "      <td>0</td>\n",
       "      <td>1</td>\n",
       "      <td>0</td>\n",
       "      <td>...</td>\n",
       "      <td>0</td>\n",
       "      <td>0</td>\n",
       "      <td>1</td>\n",
       "      <td>0</td>\n",
       "      <td>0</td>\n",
       "      <td>1</td>\n",
       "      <td>3000.0</td>\n",
       "      <td>8.006368</td>\n",
       "      <td>0.183333</td>\n",
       "      <td>2816.666667</td>\n",
       "    </tr>\n",
       "    <tr>\n",
       "      <th>3</th>\n",
       "      <td>1.0</td>\n",
       "      <td>1</td>\n",
       "      <td>4.787492</td>\n",
       "      <td>0</td>\n",
       "      <td>1</td>\n",
       "      <td>0</td>\n",
       "      <td>1</td>\n",
       "      <td>0</td>\n",
       "      <td>1</td>\n",
       "      <td>0</td>\n",
       "      <td>...</td>\n",
       "      <td>1</td>\n",
       "      <td>1</td>\n",
       "      <td>0</td>\n",
       "      <td>0</td>\n",
       "      <td>0</td>\n",
       "      <td>1</td>\n",
       "      <td>4941.0</td>\n",
       "      <td>8.505323</td>\n",
       "      <td>0.333333</td>\n",
       "      <td>4607.666667</td>\n",
       "    </tr>\n",
       "    <tr>\n",
       "      <th>4</th>\n",
       "      <td>1.0</td>\n",
       "      <td>1</td>\n",
       "      <td>4.948760</td>\n",
       "      <td>0</td>\n",
       "      <td>1</td>\n",
       "      <td>1</td>\n",
       "      <td>0</td>\n",
       "      <td>0</td>\n",
       "      <td>1</td>\n",
       "      <td>0</td>\n",
       "      <td>...</td>\n",
       "      <td>0</td>\n",
       "      <td>1</td>\n",
       "      <td>0</td>\n",
       "      <td>0</td>\n",
       "      <td>0</td>\n",
       "      <td>1</td>\n",
       "      <td>6000.0</td>\n",
       "      <td>8.699515</td>\n",
       "      <td>0.391667</td>\n",
       "      <td>5608.333333</td>\n",
       "    </tr>\n",
       "  </tbody>\n",
       "</table>\n",
       "<p>5 rows × 22 columns</p>\n",
       "</div>"
      ],
      "text/plain": [
       "   Credit_History  Loan_Status  LoanAmount_log  Gender_Female  Gender_Male  \\\n",
       "0             1.0            1        4.852030              0            1   \n",
       "1             1.0            0        4.852030              0            1   \n",
       "2             1.0            1        4.189655              0            1   \n",
       "3             1.0            1        4.787492              0            1   \n",
       "4             1.0            1        4.948760              0            1   \n",
       "\n",
       "   Married_No  Married_Yes  Dependents_3  Dependents_0  Dependents_1  \\\n",
       "0           1            0             0             1             0   \n",
       "1           0            1             0             0             1   \n",
       "2           0            1             0             1             0   \n",
       "3           0            1             0             1             0   \n",
       "4           1            0             0             1             0   \n",
       "\n",
       "        ...        Education_Not Graduate  Self_Employed_No  \\\n",
       "0       ...                             0                 1   \n",
       "1       ...                             0                 1   \n",
       "2       ...                             0                 0   \n",
       "3       ...                             1                 1   \n",
       "4       ...                             0                 1   \n",
       "\n",
       "   Self_Employed_Yes  Property_Area_Rural  Property_Area_Semiurban  \\\n",
       "0                  0                    0                        0   \n",
       "1                  0                    1                        0   \n",
       "2                  1                    0                        0   \n",
       "3                  0                    0                        0   \n",
       "4                  0                    0                        0   \n",
       "\n",
       "   Property_Area_Urban  Total_Income  Total_Income_log       EMI  \\\n",
       "0                    1        5849.0          8.674026  0.355556   \n",
       "1                    0        6091.0          8.714568  0.355556   \n",
       "2                    1        3000.0          8.006368  0.183333   \n",
       "3                    1        4941.0          8.505323  0.333333   \n",
       "4                    1        6000.0          8.699515  0.391667   \n",
       "\n",
       "   Balance Income  \n",
       "0     5493.444444  \n",
       "1     5735.444444  \n",
       "2     2816.666667  \n",
       "3     4607.666667  \n",
       "4     5608.333333  \n",
       "\n",
       "[5 rows x 22 columns]"
      ]
     },
     "execution_count": 95,
     "metadata": {},
     "output_type": "execute_result"
    }
   ],
   "source": [
    "# after dropping variables\n",
    "train.head()"
   ]
  },
  {
   "cell_type": "markdown",
   "metadata": {},
   "source": [
    "***\n",
    "## <a name=\"model2\">Model Building : Part II</a>\n",
    "\n",
    "\n",
    "After creating new features, we can continue the model building process. So we will start with logistic regression model and then move over to more complex models like RandomForest and XGBoost.\n",
    "\n",
    "We will build the following models in this section.\n",
    "\n",
    "- Logistic Regression\n",
    "- Decision Tree\n",
    "- Random Forest\n",
    "- XGBoost\n",
    "\n",
    "Let’s prepare the data for feeding into the models."
   ]
  },
  {
   "cell_type": "code",
   "execution_count": 96,
   "metadata": {},
   "outputs": [],
   "source": [
    "# drop \"Loan_Status\" and assign it to target variable\n",
    "X = train.drop('Loan_Status', axis=1)\n",
    "y = train.Loan_Status                # Save target variable in separate dataset"
   ]
  },
  {
   "cell_type": "markdown",
   "metadata": {},
   "source": [
    "### Logistic Regression"
   ]
  },
  {
   "cell_type": "code",
   "execution_count": 97,
   "metadata": {},
   "outputs": [
    {
     "name": "stdout",
     "output_type": "stream",
     "text": [
      "\n",
      "1 of kfold 5\n",
      "accuracy_score 0.7983870967741935\n",
      "\n",
      "2 of kfold 5\n",
      "accuracy_score 0.8225806451612904\n",
      "\n",
      "3 of kfold 5\n",
      "accuracy_score 0.7786885245901639\n",
      "\n",
      "4 of kfold 5\n",
      "accuracy_score 0.7868852459016393\n",
      "\n",
      "5 of kfold 5\n",
      "accuracy_score 0.8278688524590164\n",
      "\n",
      "Mean validation accuracy:  0.8028820729772608\n"
     ]
    }
   ],
   "source": [
    "# stratified 5 folds, shuffle each stratification of the data before splitting into batches\n",
    "\n",
    "mean_accuracy = []\n",
    "i = 1\n",
    "kf = StratifiedKFold(n_splits=5, random_state=1, shuffle=True)\n",
    "\n",
    "for train_index, test_index in kf.split(X, y):\n",
    "    print('\\n{} of kfold {}'.format(i, kf.n_splits))\n",
    "    xtr, xvl = X.loc[train_index], X.loc[test_index]\n",
    "    ytr, yvl = y[train_index], y[test_index]\n",
    "    \n",
    "    model = LogisticRegression(random_state=1)\n",
    "    model.fit(xtr, ytr)\n",
    "    pred_test = model.predict(xvl)\n",
    "    score = accuracy_score(yvl, pred_test)\n",
    "    mean_accuracy.append(score)\n",
    "    print('accuracy_score', score)\n",
    "    i+=1\n",
    "    \n",
    "print(\"\\nMean validation accuracy: \", sum(mean_accuracy)/len(mean_accuracy))\n",
    "\n",
    "\n",
    "# make prediction on test set\n",
    "pred_test = model.predict(test)\n",
    "\n",
    "\n",
    "# calculate probability estimates of loan approval\n",
    "# column 0 is the probability for class 0 and column 1 is the probability for class 1\n",
    "# probability of loan default = 1 - model.predict_proba(test)[:,1]\n",
    "pred = model.predict_proba(xvl)[:,1]"
   ]
  },
  {
   "cell_type": "markdown",
   "metadata": {},
   "source": [
    "The mean validation accuracy for this model is 0.803"
   ]
  },
  {
   "cell_type": "code",
   "execution_count": 98,
   "metadata": {},
   "outputs": [],
   "source": [
    "# filling Loan_Status with predictions\n",
    "submission['Loan_Status'] = pred_test\n",
    "\n",
    "# filling Loan_ID with test Loan_ID\n",
    "submission['Loan_ID'] = test_original['Loan_ID'] "
   ]
  },
  {
   "cell_type": "code",
   "execution_count": 99,
   "metadata": {},
   "outputs": [],
   "source": [
    "# replacing 0 and 1 with N and Y\n",
    "submission['Loan_Status'].replace(0, 'N', inplace=True)\n",
    "submission['Loan_Status'].replace(1, 'Y', inplace=True)"
   ]
  },
  {
   "cell_type": "code",
   "execution_count": 100,
   "metadata": {},
   "outputs": [],
   "source": [
    "# Converting submission file to .csv format\n",
    "submission.to_csv('Log2.csv', index=False)"
   ]
  },
  {
   "cell_type": "markdown",
   "metadata": {},
   "source": [
    "From this submission we got an accuracy of 0.7778 on the leaderboard. So we can infer feature engineering has not improved the model. Let us look at some other algorithms."
   ]
  },
  {
   "cell_type": "markdown",
   "metadata": {},
   "source": [
    "### Decision Tree"
   ]
  },
  {
   "cell_type": "markdown",
   "metadata": {},
   "source": [
    "Decision tree is a type of supervised learning algorithm(having a pre-defined target variable) that is mostly used in classification problems. In this technique, we split the population or sample into two or more homogeneous sets(or sub-populations) based on most significant splitter / differentiator in input variables.\n",
    "\n",
    "Decision trees use multiple algorithms to decide to split a node in two or more sub-nodes. The creation of sub-nodes increases the homogeneity of resultant sub-nodes. In other words, we can say that purity of the node increases with respect to the target variable.\n",
    "\n",
    "For detailed explanation visit https://www.analyticsvidhya.com/blog/2016/04/complete-tutorial-tree-based-modeling-scratch-in-python/#six"
   ]
  },
  {
   "cell_type": "code",
   "execution_count": 101,
   "metadata": {},
   "outputs": [],
   "source": [
    "# import library\n",
    "from sklearn import tree"
   ]
  },
  {
   "cell_type": "markdown",
   "metadata": {},
   "source": [
    "Let’s fit the decision tree model with 5 folds of cross validation."
   ]
  },
  {
   "cell_type": "code",
   "execution_count": 102,
   "metadata": {},
   "outputs": [
    {
     "name": "stdout",
     "output_type": "stream",
     "text": [
      "\n",
      "1 of kfold 5\n",
      "accuracy_score 0.7258064516129032\n",
      "\n",
      "2 of kfold 5\n",
      "accuracy_score 0.7419354838709677\n",
      "\n",
      "3 of kfold 5\n",
      "accuracy_score 0.7049180327868853\n",
      "\n",
      "4 of kfold 5\n",
      "accuracy_score 0.680327868852459\n",
      "\n",
      "5 of kfold 5\n",
      "accuracy_score 0.7049180327868853\n",
      "\n",
      "Mean validation accuracy:  0.7115811739820201\n"
     ]
    }
   ],
   "source": [
    "mean_accuracy = []\n",
    "i=1\n",
    "kf = StratifiedKFold(n_splits=5,random_state=1,shuffle=True)\n",
    "for train_index,test_index in kf.split(X,y):\n",
    "    print('\\n{} of kfold {}'.format(i,kf.n_splits))\n",
    "    xtr,xvl = X.loc[train_index],X.loc[test_index]\n",
    "    ytr,yvl = y[train_index],y[test_index]\n",
    "    \n",
    "    model = tree.DecisionTreeClassifier(random_state=1)\n",
    "    model.fit(xtr, ytr)\n",
    "    pred_test = model.predict(xvl)\n",
    "    score = accuracy_score(yvl,pred_test)\n",
    "    mean_accuracy.append(score)\n",
    "    print('accuracy_score',score)\n",
    "    i+=1\n",
    "    \n",
    "print(\"\\nMean validation accuracy: \", sum(mean_accuracy)/len(mean_accuracy))\n",
    "pred_test = model.predict(test)"
   ]
  },
  {
   "cell_type": "markdown",
   "metadata": {},
   "source": [
    "The mean validation accuracy for this model is 0.71, which is lower than Logistic Regression, let's see how it perform on the Test set by submitting to the result."
   ]
  },
  {
   "cell_type": "code",
   "execution_count": 103,
   "metadata": {},
   "outputs": [],
   "source": [
    "# filling Loan_Status with predictions\n",
    "submission['Loan_Status'] = pred_test            \n",
    "\n",
    "# filling Loan_ID with test Loan_ID\n",
    "submission['Loan_ID'] = test_original['Loan_ID'] "
   ]
  },
  {
   "cell_type": "code",
   "execution_count": 104,
   "metadata": {},
   "outputs": [],
   "source": [
    "# replacing 0 and 1 with N and Y\n",
    "submission['Loan_Status'].replace(0, 'N', inplace=True)\n",
    "submission['Loan_Status'].replace(1, 'Y', inplace=True)"
   ]
  },
  {
   "cell_type": "code",
   "execution_count": 105,
   "metadata": {},
   "outputs": [],
   "source": [
    "# Converting submission file to .csv format\n",
    "submission.to_csv('Decision Tree.csv', index=False)"
   ]
  },
  {
   "cell_type": "markdown",
   "metadata": {},
   "source": [
    "We got an accuracy of 0.6458 which is much lesser than the accuracy from logistic regression model. So let’s build another model, i.e. Random Forest, a tree based ensemble algorithm and try to improve our model by improving the accuracy."
   ]
  },
  {
   "cell_type": "markdown",
   "metadata": {},
   "source": [
    "### Random Forest\n",
    "\n",
    "- RandomForest is a tree based bootstrapping algorithm wherein a certain no. of weak learners (decision trees) are combined to make a powerful prediction model.\n",
    "- For every individual learner, a random sample of rows and a few randomly chosen variables are used to build a decision tree model.\n",
    "- Final prediction can be a function of all the predictions made by the individual learners.\n",
    "- In case of regression problem, the final prediction can be mean of all the predictions.\n",
    "\n",
    "There are some parameters worth exploring with the sklearn RandomForestClassifier:\n",
    "\n",
    "- n_estimators\n",
    "- max_features\n",
    "\n",
    "n_estimators = ususally bigger the forest the better, there is small chance of overfitting here. The more estimators you give it, the better it will do. We will use the default value of 10.\n",
    "\n",
    "max depth of each tree (default none, leading to full tree) - reduction of the maximum depth helps fighting with overfitting. We will limit at 10.\n",
    "\n",
    "For detailed explanation visit this article https://www.analyticsvidhya.com/blog/2016/04/complete-tutorial-tree-based-modeling-scratch-in-python/"
   ]
  },
  {
   "cell_type": "code",
   "execution_count": 106,
   "metadata": {},
   "outputs": [],
   "source": [
    "# import library\n",
    "from sklearn.ensemble import RandomForestClassifier"
   ]
  },
  {
   "cell_type": "code",
   "execution_count": 107,
   "metadata": {},
   "outputs": [
    {
     "name": "stdout",
     "output_type": "stream",
     "text": [
      "\n",
      "1 of kfold 5\n",
      "accuracy_score 0.8225806451612904\n",
      "\n",
      "2 of kfold 5\n",
      "accuracy_score 0.8145161290322581\n",
      "\n",
      "3 of kfold 5\n",
      "accuracy_score 0.7377049180327869\n",
      "\n",
      "4 of kfold 5\n",
      "accuracy_score 0.7295081967213115\n",
      "\n",
      "5 of kfold 5\n",
      "accuracy_score 0.8114754098360656\n",
      "\n",
      "Mean validation accuracy:  0.7831570597567425\n"
     ]
    }
   ],
   "source": [
    "mean_accuracy = []\n",
    "i=1\n",
    "kf = StratifiedKFold(n_splits=5,random_state=1,shuffle=True)\n",
    "for train_index,test_index in kf.split(X, y):\n",
    "    print('\\n{} of kfold {}'.format(i,kf.n_splits))\n",
    "    xtr,xvl = X.loc[train_index],X.loc[test_index]\n",
    "    ytr,yvl = y[train_index],y[test_index]\n",
    "    \n",
    "    model = RandomForestClassifier(random_state=1, max_depth=10, n_estimators=10)\n",
    "    model.fit(xtr, ytr)\n",
    "    pred_test = model.predict(xvl)\n",
    "    score = accuracy_score(yvl,pred_test)\n",
    "    mean_accuracy.append(score)\n",
    "    print('accuracy_score',score)\n",
    "    i+=1\n",
    "    \n",
    "print(\"\\nMean validation accuracy: \", sum(mean_accuracy)/len(mean_accuracy))\n",
    "pred_test = model.predict(test)"
   ]
  },
  {
   "cell_type": "markdown",
   "metadata": {},
   "source": [
    "The mean validation accuracy for this model is 0.783"
   ]
  },
  {
   "cell_type": "markdown",
   "metadata": {},
   "source": [
    "### GridSearchCV\n",
    "\n",
    "We will try to improve the accuracy by tuning the hyperparameters for this model. We will use grid search to get the optimized values of hyper parameters. GridSearch is a way to select the best of a family of hyper parameters, parametrized by a grid of parameters.\n",
    "\n",
    "We will use GridSearchCV in sklearn.model_selection for an exhaustive search over specified parameter values for an estimator. GridSearchCV implements a “fit” and a “score” method. It also implements “predict”, “predict_proba”, “decision_function”, “transform” and “inverse_transform” if they are implemented in the estimator used.\n",
    "\n",
    "The parameters of the estimator used to apply these methods are optimized by cross-validated grid-search over a parameter grid, hence GridSearchCV. More info at https://scikit-learn.org/stable/modules/generated/sklearn.model_selection.GridSearchCV.html\n",
    "\n",
    "We will tune the max_depth and n_estimators parameters. max_depth decides the maximum depth of the tree and n_estimators decides the number of trees that will be used in random forest model."
   ]
  },
  {
   "cell_type": "code",
   "execution_count": 108,
   "metadata": {},
   "outputs": [],
   "source": [
    "# import library\n",
    "from sklearn.model_selection import GridSearchCV"
   ]
  },
  {
   "cell_type": "code",
   "execution_count": 109,
   "metadata": {},
   "outputs": [],
   "source": [
    "# Provide range for max_depth from 1 to 20 with an interval of 2 and from 1 to 200 with an interval of 20 for n_estimators\n",
    "paramgrid = {'max_depth': list(range(1, 20, 2)), 'n_estimators': list(range(1, 200, 20))}"
   ]
  },
  {
   "cell_type": "code",
   "execution_count": 110,
   "metadata": {},
   "outputs": [],
   "source": [
    "# default 3-fold cross validation, cv=3\n",
    "grid_search = GridSearchCV(RandomForestClassifier(random_state=1), paramgrid)"
   ]
  },
  {
   "cell_type": "code",
   "execution_count": 111,
   "metadata": {},
   "outputs": [],
   "source": [
    "# split the data\n",
    "from sklearn.model_selection import train_test_split\n",
    "x_train, x_cv, y_train, y_cv = train_test_split(X, y, test_size =0.3, random_state=1)"
   ]
  },
  {
   "cell_type": "code",
   "execution_count": 112,
   "metadata": {},
   "outputs": [
    {
     "data": {
      "text/plain": [
       "GridSearchCV(cv=None, error_score='raise',\n",
       "       estimator=RandomForestClassifier(bootstrap=True, class_weight=None, criterion='gini',\n",
       "            max_depth=None, max_features='auto', max_leaf_nodes=None,\n",
       "            min_impurity_decrease=0.0, min_impurity_split=None,\n",
       "            min_samples_leaf=1, min_samples_split=2,\n",
       "            min_weight_fraction_leaf=0.0, n_estimators=10, n_jobs=1,\n",
       "            oob_score=False, random_state=1, verbose=0, warm_start=False),\n",
       "       fit_params=None, iid=True, n_jobs=1,\n",
       "       param_grid={'max_depth': [1, 3, 5, 7, 9, 11, 13, 15, 17, 19], 'n_estimators': [1, 21, 41, 61, 81, 101, 121, 141, 161, 181]},\n",
       "       pre_dispatch='2*n_jobs', refit=True, return_train_score='warn',\n",
       "       scoring=None, verbose=0)"
      ]
     },
     "execution_count": 112,
     "metadata": {},
     "output_type": "execute_result"
    }
   ],
   "source": [
    "# fit the grid search model\n",
    "grid_search.fit(x_train, y_train)"
   ]
  },
  {
   "cell_type": "markdown",
   "metadata": {},
   "source": [
    "After the grid search model has been fit, we can use use `best_estimator_` to obtain the estimator that was chosen by the search, i.e. estimator which gave highest score (or smallest loss if specified) on the left out data."
   ]
  },
  {
   "cell_type": "code",
   "execution_count": 113,
   "metadata": {},
   "outputs": [
    {
     "data": {
      "text/plain": [
       "RandomForestClassifier(bootstrap=True, class_weight=None, criterion='gini',\n",
       "            max_depth=3, max_features='auto', max_leaf_nodes=None,\n",
       "            min_impurity_decrease=0.0, min_impurity_split=None,\n",
       "            min_samples_leaf=1, min_samples_split=2,\n",
       "            min_weight_fraction_leaf=0.0, n_estimators=141, n_jobs=1,\n",
       "            oob_score=False, random_state=1, verbose=0, warm_start=False)"
      ]
     },
     "execution_count": 113,
     "metadata": {},
     "output_type": "execute_result"
    }
   ],
   "source": [
    "# estimate the optimized value\n",
    "grid_search.best_estimator_"
   ]
  },
  {
   "cell_type": "markdown",
   "metadata": {},
   "source": [
    "So, the optimized value for the max_depth variable is 3 and for n_estimator is 141. Now let’s build the model using these optimized values."
   ]
  },
  {
   "cell_type": "code",
   "execution_count": 114,
   "metadata": {},
   "outputs": [
    {
     "name": "stdout",
     "output_type": "stream",
     "text": [
      "\n",
      "1 of kfold 5\n",
      "accuracy_score 0.8064516129032258\n",
      "\n",
      "2 of kfold 5\n",
      "accuracy_score 0.8306451612903226\n",
      "\n",
      "3 of kfold 5\n",
      "accuracy_score 0.8032786885245902\n",
      "\n",
      "4 of kfold 5\n",
      "accuracy_score 0.7950819672131147\n",
      "\n",
      "5 of kfold 5\n",
      "accuracy_score 0.8278688524590164\n",
      "\n",
      "Mean validation accuracy:  0.8126652564780541\n"
     ]
    }
   ],
   "source": [
    "mean_accuracy = []\n",
    "i=1\n",
    "kf = StratifiedKFold(n_splits=5,random_state=1,shuffle=True)\n",
    "for train_index,test_index in kf.split(X,y):\n",
    "    print('\\n{} of kfold {}'.format(i,kf.n_splits))\n",
    "    xtr,xvl = X.loc[train_index],X.loc[test_index]\n",
    "    ytr,yvl = y[train_index],y[test_index]\n",
    "    \n",
    "    model = RandomForestClassifier(random_state=1, max_depth=3, n_estimators=141)\n",
    "    model.fit(xtr, ytr)\n",
    "    pred_test = model.predict(xvl)\n",
    "    score = accuracy_score(yvl,pred_test)\n",
    "    mean_accuracy.append(score)\n",
    "    print('accuracy_score',score)\n",
    "    i+=1\n",
    "    \n",
    "print(\"\\nMean validation accuracy: \", sum(mean_accuracy)/len(mean_accuracy))\n",
    "pred_test = model.predict(test)\n",
    "pred2=model.predict_proba(test)[:,1]"
   ]
  },
  {
   "cell_type": "markdown",
   "metadata": {},
   "source": [
    "The mean validation accuracy has improved from 0.783 to 0.813"
   ]
  },
  {
   "cell_type": "code",
   "execution_count": 115,
   "metadata": {},
   "outputs": [],
   "source": [
    "# filling Loan_Status with predictions\n",
    "submission['Loan_Status']=pred_test            \n",
    "\n",
    "# filling Loan_ID with test Loan_ID\n",
    "submission['Loan_ID']=test_original['Loan_ID'] "
   ]
  },
  {
   "cell_type": "code",
   "execution_count": 116,
   "metadata": {},
   "outputs": [],
   "source": [
    "# replacing 0 and 1 with N and Y\n",
    "submission['Loan_Status'].replace(0, 'N', inplace=True)\n",
    "submission['Loan_Status'].replace(1, 'Y', inplace=True)"
   ]
  },
  {
   "cell_type": "code",
   "execution_count": 117,
   "metadata": {},
   "outputs": [],
   "source": [
    "# Converting submission file to .csv format\n",
    "submission.to_csv('Random Forest.csv', index=False)"
   ]
  },
  {
   "cell_type": "markdown",
   "metadata": {},
   "source": [
    "We got an accuracy of 0.7638 from the random forest model on leaderboard.\n",
    "\n",
    "### Feature Importance\n",
    "\n",
    "Let us find the feature importance now, i.e. which features are most important for this problem. We will use feature_importances_ attribute of sklearn to do so. It will return the feature importances (the higher, the more important the feature)."
   ]
  },
  {
   "cell_type": "code",
   "execution_count": 118,
   "metadata": {},
   "outputs": [
    {
     "data": {
      "text/plain": [
       "<matplotlib.axes._subplots.AxesSubplot at 0x2954721ef28>"
      ]
     },
     "execution_count": 118,
     "metadata": {},
     "output_type": "execute_result"
    },
    {
     "data": {
      "image/png": "[encoded data removed]",
      "text/plain": [
       "<Figure size 864x576 with 1 Axes>"
      ]
     },
     "metadata": {},
     "output_type": "display_data"
    }
   ],
   "source": [
    "# extract feature importances, convert into a Series\n",
    "importances = pd.Series(model.feature_importances_, index=X.columns)\n",
    "\n",
    "# plot the horizontal bar chart\n",
    "importances.plot(kind='barh', figsize=(12,8))"
   ]
  },
  {
   "cell_type": "markdown",
   "metadata": {},
   "source": [
    "We can see that Credit_History is the most important feature followed by Total Income Log, Total Income, Balance Income, Property Area Suburban, EMI. So, feature engineering helped us in predicting our target variable."
   ]
  },
  {
   "cell_type": "markdown",
   "metadata": {},
   "source": [
    "### XGBoost\n",
    "\n",
    "XGBoost is a fast and efficient algorithm and has been used to by the winners of many data science competitions. It’s a boosting algorithm and you may refer the below article to know more about boosting:https://www.analyticsvidhya.com/blog/2015/11/quick-introduction-boosting-algorithms-machine-learning/\n",
    "\n",
    "XGBoost works only with numeric variables and we have already replaced the categorical variables with numeric variables. Let’s have a look at the parameters that we are going to use in our model.\n",
    "\n",
    "- n_estimator: This specifies the number of trees for the model.\n",
    "- max_depth: We can specify maximum depth of a tree using this parameter.\n"
   ]
  },
  {
   "cell_type": "code",
   "execution_count": 119,
   "metadata": {},
   "outputs": [],
   "source": [
    "# import library\n",
    "from xgboost import XGBClassifier"
   ]
  },
  {
   "cell_type": "code",
   "execution_count": 135,
   "metadata": {},
   "outputs": [
    {
     "name": "stdout",
     "output_type": "stream",
     "text": [
      "\n",
      "1 of kfold 5\n",
      "accuracy_score 0.782258064516129\n",
      "\n",
      "2 of kfold 5\n",
      "accuracy_score 0.8225806451612904\n",
      "\n",
      "3 of kfold 5\n",
      "accuracy_score 0.7622950819672131\n",
      "\n",
      "4 of kfold 5\n",
      "accuracy_score 0.7459016393442623\n",
      "\n",
      "5 of kfold 5\n",
      "accuracy_score 0.7868852459016393\n",
      "\n",
      "Mean validation accuracy:  0.7799841353781068\n"
     ]
    }
   ],
   "source": [
    "mean_accuracy = []\n",
    "i=1\n",
    "kf = StratifiedKFold(n_splits=5,random_state=1,shuffle=True)\n",
    "for train_index,test_index in kf.split(X,y):\n",
    "    print('\\n{} of kfold {}'.format(i,kf.n_splits))\n",
    "    xtr,xvl = X.loc[train_index],X.loc[test_index]\n",
    "    ytr,yvl = y[train_index],y[test_index]\n",
    "    \n",
    "    model = XGBClassifier(random_state=1, n_estimators=50, max_depth=4)\n",
    "    model.fit(xtr, ytr)\n",
    "    pred_test = model.predict(xvl)\n",
    "    score = accuracy_score(yvl,pred_test)\n",
    "    mean_accuracy.append(score)\n",
    "    print('accuracy_score',score)\n",
    "    i+=1\n",
    "    \n",
    "print(\"\\nMean validation accuracy: \", sum(mean_accuracy)/len(mean_accuracy))\n",
    "pred_test = model.predict(test)\n",
    "pred3=model.predict_proba(test)[:,1]\n",
    "\n",
    "# warnings.filterwarnings(action='ignore', category=DeprecationWarning)"
   ]
  },
  {
   "cell_type": "markdown",
   "metadata": {},
   "source": [
    "The mean validation accuracy for this model is 0.78\n",
    "\n",
    "We will try to improve the accuracy by tuning the hyperparameters for this model. We will use grid search to get the optimized values of hyper parameters."
   ]
  },
  {
   "cell_type": "code",
   "execution_count": 136,
   "metadata": {},
   "outputs": [],
   "source": [
    "# import library\n",
    "from sklearn.model_selection import GridSearchCV"
   ]
  },
  {
   "cell_type": "code",
   "execution_count": 137,
   "metadata": {},
   "outputs": [],
   "source": [
    "# Provide range for max_depth from 1 to 20 with an interval of 2 and from 1 to 200 with an interval of 20 for n_estimators\n",
    "paramgrid = {'max_depth': list(range(1, 20, 2)), 'n_estimators': list(range(1, 200, 20))}"
   ]
  },
  {
   "cell_type": "code",
   "execution_count": 138,
   "metadata": {},
   "outputs": [],
   "source": [
    "# default 3-fold cross validation, cv=3\n",
    "grid_search = GridSearchCV(XGBClassifier(random_state=1), paramgrid)"
   ]
  },
  {
   "cell_type": "code",
   "execution_count": 139,
   "metadata": {},
   "outputs": [],
   "source": [
    "# split the data\n",
    "from sklearn.model_selection import train_test_split\n",
    "x_train, x_cv, y_train, y_cv = train_test_split(X, y, test_size =0.3, random_state=1)"
   ]
  },
  {
   "cell_type": "code",
   "execution_count": 140,
   "metadata": {},
   "outputs": [
    {
     "data": {
      "text/plain": [
       "GridSearchCV(cv=None, error_score='raise',\n",
       "       estimator=XGBClassifier(base_score=0.5, booster='gbtree', colsample_bylevel=1,\n",
       "       colsample_bytree=1, gamma=0, learning_rate=0.1, max_delta_step=0,\n",
       "       max_depth=3, min_child_weight=1, missing=None, n_estimators=100,\n",
       "       n_jobs=1, nthread=None, objective='binary:logistic', random_state=1,\n",
       "       reg_alpha=0, reg_lambda=1, scale_pos_weight=1, seed=None,\n",
       "       silent=True, subsample=1),\n",
       "       fit_params=None, iid=True, n_jobs=1,\n",
       "       param_grid={'max_depth': [1, 3, 5, 7, 9, 11, 13, 15, 17, 19], 'n_estimators': [1, 21, 41, 61, 81, 101, 121, 141, 161, 181]},\n",
       "       pre_dispatch='2*n_jobs', refit=True, return_train_score='warn',\n",
       "       scoring=None, verbose=0)"
      ]
     },
     "execution_count": 140,
     "metadata": {},
     "output_type": "execute_result"
    }
   ],
   "source": [
    "# fit the grid search model\n",
    "grid_search.fit(x_train, y_train)"
   ]
  },
  {
   "cell_type": "code",
   "execution_count": 141,
   "metadata": {
    "scrolled": true
   },
   "outputs": [
    {
     "data": {
      "text/plain": [
       "XGBClassifier(base_score=0.5, booster='gbtree', colsample_bylevel=1,\n",
       "       colsample_bytree=1, gamma=0, learning_rate=0.1, max_delta_step=0,\n",
       "       max_depth=1, min_child_weight=1, missing=None, n_estimators=81,\n",
       "       n_jobs=1, nthread=None, objective='binary:logistic', random_state=1,\n",
       "       reg_alpha=0, reg_lambda=1, scale_pos_weight=1, seed=None,\n",
       "       silent=True, subsample=1)"
      ]
     },
     "execution_count": 141,
     "metadata": {},
     "output_type": "execute_result"
    }
   ],
   "source": [
    "# estimate the optimized value\n",
    "grid_search.best_estimator_"
   ]
  },
  {
   "cell_type": "markdown",
   "metadata": {
    "collapsed": true
   },
   "source": [
    "So, the optimized value for the max_depth variable is 1 and for n_estimator is 81. Now let’s build the model using these optimized values."
   ]
  },
  {
   "cell_type": "code",
   "execution_count": 155,
   "metadata": {},
   "outputs": [
    {
     "name": "stdout",
     "output_type": "stream",
     "text": [
      "\n",
      "1 of kfold 5\n",
      "accuracy_score 0.8064516129032258\n",
      "\n",
      "2 of kfold 5\n",
      "accuracy_score 0.8306451612903226\n",
      "\n",
      "3 of kfold 5\n",
      "accuracy_score 0.8032786885245902\n",
      "\n",
      "4 of kfold 5\n",
      "accuracy_score 0.7868852459016393\n",
      "\n",
      "5 of kfold 5\n",
      "accuracy_score 0.8360655737704918\n",
      "\n",
      "Mean validation accuracy:  0.8126652564780541\n"
     ]
    }
   ],
   "source": [
    "mean_accuracy = []\n",
    "i=1\n",
    "kf = StratifiedKFold(n_splits=5,random_state=1,shuffle=True)\n",
    "for train_index,test_index in kf.split(X,y):\n",
    "    print('\\n{} of kfold {}'.format(i,kf.n_splits))\n",
    "    xtr,xvl = X.loc[train_index],X.loc[test_index]\n",
    "    ytr,yvl = y[train_index],y[test_index]\n",
    "    \n",
    "    model = XGBClassifier(random_state=1, n_estimators=81, max_depth=1)\n",
    "    model.fit(xtr, ytr)\n",
    "    pred_test = model.predict(xvl)\n",
    "    score = accuracy_score(yvl,pred_test)\n",
    "    mean_accuracy.append(score)\n",
    "    print('accuracy_score',score)\n",
    "    i+=1\n",
    "    \n",
    "print(\"\\nMean validation accuracy: \", sum(mean_accuracy)/len(mean_accuracy))\n",
    "pred_test = model.predict(test)\n",
    "pred3 = model.predict_proba(test)[:,1]"
   ]
  },
  {
   "cell_type": "markdown",
   "metadata": {},
   "source": [
    "The mean validation accuracy has improved from 0.78 to 0.813"
   ]
  },
  {
   "cell_type": "code",
   "execution_count": 143,
   "metadata": {},
   "outputs": [],
   "source": [
    "# filling Loan_Status with predictions\n",
    "submission['Loan_Status'] = pred_test            \n",
    "\n",
    "# filling Loan_ID with test Loan_ID\n",
    "submission['Loan_ID']=test_original['Loan_ID'] "
   ]
  },
  {
   "cell_type": "code",
   "execution_count": 144,
   "metadata": {},
   "outputs": [],
   "source": [
    "# replacing 0 and 1 with N and Y\n",
    "submission['Loan_Status'].replace(0, 'N', inplace=True)\n",
    "submission['Loan_Status'].replace(1, 'Y', inplace=True)"
   ]
  },
  {
   "cell_type": "code",
   "execution_count": 145,
   "metadata": {},
   "outputs": [],
   "source": [
    "# Converting submission file to .csv format\n",
    "submission.to_csv('XGBoost.csv', index=False)"
   ]
  },
  {
   "cell_type": "markdown",
   "metadata": {},
   "source": [
    "We got an accuracy of 0.7778 with this model."
   ]
  },
  {
   "cell_type": "markdown",
   "metadata": {},
   "source": [
    "***\n",
    "# <a name=\"conclusion\">Conclusion</a>\n",
    "\n",
    "After trying and testing 4 different algorithms, the best accuracy on the public leaderboard is achieved by Logistic Regression (0.7847), followed by RandomForest (0.7778) and XGBoost (0.7778), and Decision Tree performed the worst (0.6458). While new features created via feature engineering helped in predicting the target variable, it did not improve the overall model accuracy much. Compared to using default parameter values, GridSearchCV helped improved the model's mean validation accuracy by providing the optimized values for the model's hyperparameters. On the whole, a logistic regression classifier provides the best result in terms of accuracy for the given dataset, without any feature engineering needed. Because of its simplicity and the fact that it can be implemented relatively easy and quick, Logistic Regression is often a good baseline that data scientists can use to measure the performance of other more complex algorithms. In this case, however, a basic Logistic Regression has already outperformed other more complex algorithms like Random Forest and XGBoost, for the given dataset.\n",
    "\n",
    "**Suggestions for Improvement**. There are many things that can be tried to improve the models’ predictions.  We can create and add more variables, try different models with different subset of features and/or rows, etc. Some of the ideas are listed below:\n",
    "\n",
    "- Combine the applicants with 1,2,3 or more dependents and make a new feature as discussed in the EDA part.\n",
    "- Make independent vs independent variable visualizations to discover some more patterns.\n",
    "- Arrive at the EMI using a better formula which may include interest rates as well.\n",
    "- Try ensemble modeling (combination of different models). More about ensemble techniques can be found at the references.\n",
    "- Try neural network using Tensorflow or PyTorch\n",
    "\n",
    "\n",
    "In summary, this project is helpful to me in understanding how a machine learning competition is approached and what are the steps one should go through to build a robust model. If you have any feedback for this project, feel free to contact me via my [LinkedIn](https://www.linkedin.com/in/limchiahooi) or [GitHub Pages](https://limchiahooi.github.io)."
   ]
  },
  {
   "cell_type": "markdown",
   "metadata": {},
   "source": [
    "***\n",
    "### References\n",
    "- https://towardsdatascience.com/data-types-in-statistics-347e152e8bee\n",
    "- https://machinelearning-blog.com/2018/04/23/logistic-regression-101/\n",
    "- https://www.analyticsvidhya.com/blog/2015/08/introduction-ensemble-learning/\n",
    "- https://www.analyticsvidhya.com/blog/2015/09/questions-ensemble-modeling/"
   ]
  },
  {
   "cell_type": "code",
   "execution_count": null,
   "metadata": {},
   "outputs": [],
   "source": []
  }
 ],
 "metadata": {
  "kernelspec": {
   "display_name": "Python 3",
   "language": "python",
   "name": "python3"
  },
  "language_info": {
   "codemirror_mode": {
    "name": "ipython",
    "version": 3
   },
   "file_extension": ".py",
   "mimetype": "text/x-python",
   "name": "python",
   "nbconvert_exporter": "python",
   "pygments_lexer": "ipython3",
   "version": "3.6.4"
  }
 },
 "nbformat": 4,
 "nbformat_minor": 2
}
